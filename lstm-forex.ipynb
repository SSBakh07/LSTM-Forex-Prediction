{
 "cells": [
  {
   "attachments": {},
   "cell_type": "markdown",
   "metadata": {},
   "source": [
    "# Predicting EUR/USD Outcomes Using LSTMs\n",
    "\n",
    "The dataset used is EUR/USD OHLC data over a 15 minute timeframe, spanning from October 2002 to October 2023. The goal is to predict the OHLC prices 3 timesteps in advance (I.E. 45 minutes in advance).\n",
    "\n",
    "The architecture that I'll be using for this are stacked LSTMs in a relatively light and linear model, due to time and computational constraints. Potential improvements for the future are listed at the end of this notebook."
   ]
  },
  {
   "cell_type": "code",
   "execution_count": 1,
   "metadata": {},
   "outputs": [
    {
     "name": "stdout",
     "output_type": "stream",
     "text": [
      "WARNING:tensorflow:From c:\\Users\\Saqi\\anaconda3\\lib\\site-packages\\keras\\src\\losses.py:2976: The name tf.losses.sparse_softmax_cross_entropy is deprecated. Please use tf.compat.v1.losses.sparse_softmax_cross_entropy instead.\n",
      "\n"
     ]
    }
   ],
   "source": [
    "import numpy as np \n",
    "import pandas as pd \n",
    "from keras.models import Sequential\n",
    "from keras.layers import SimpleRNN, Flatten, TimeDistributed, LSTM, Dense\n",
    "from tensorflow import keras\n",
    "from tensorflow.keras.callbacks import EarlyStopping\n",
    "import plotly.graph_objects as go\n",
    "from matplotlib import pyplot as plt\n",
    "from random import randint\n",
    "\n",
    "keras.utils.set_random_seed(7)"
   ]
  },
  {
   "cell_type": "code",
   "execution_count": 2,
   "metadata": {},
   "outputs": [
    {
     "data": {
      "text/plain": [
       "[]"
      ]
     },
     "execution_count": 2,
     "metadata": {},
     "output_type": "execute_result"
    }
   ],
   "source": [
    "# Check if GPU is being used\n",
    "\n",
    "from tensorflow.python.keras import backend as K\n",
    "K._get_available_gpus()"
   ]
  },
  {
   "attachments": {},
   "cell_type": "markdown",
   "metadata": {},
   "source": [
    "# Data Loading and Cleaning\n",
    "\n",
    "As mentioned previously, the data provided is for EUR/USD Forex pairs over a 15 minute timeframe, spanning from October 2002, to October 2023. \n",
    "\n",
    "While the data is relatively clean, there is some extra preprocessing that needs to be done before it can be utilized."
   ]
  },
  {
   "cell_type": "code",
   "execution_count": 3,
   "metadata": {},
   "outputs": [
    {
     "data": {
      "text/html": [
       "<div>\n",
       "<style scoped>\n",
       "    .dataframe tbody tr th:only-of-type {\n",
       "        vertical-align: middle;\n",
       "    }\n",
       "\n",
       "    .dataframe tbody tr th {\n",
       "        vertical-align: top;\n",
       "    }\n",
       "\n",
       "    .dataframe thead th {\n",
       "        text-align: right;\n",
       "    }\n",
       "</style>\n",
       "<table border=\"1\" class=\"dataframe\">\n",
       "  <thead>\n",
       "    <tr style=\"text-align: right;\">\n",
       "      <th></th>\n",
       "      <th>21/10/2002</th>\n",
       "      <th>01:15:00</th>\n",
       "      <th>0.9732</th>\n",
       "      <th>0.9734</th>\n",
       "      <th>0.9726</th>\n",
       "      <th>0.9726.1</th>\n",
       "      <th>0</th>\n",
       "    </tr>\n",
       "  </thead>\n",
       "  <tbody>\n",
       "    <tr>\n",
       "      <th>0</th>\n",
       "      <td>21/10/2002</td>\n",
       "      <td>01:30:00</td>\n",
       "      <td>0.97260</td>\n",
       "      <td>0.97275</td>\n",
       "      <td>0.97195</td>\n",
       "      <td>0.97205</td>\n",
       "      <td>0</td>\n",
       "    </tr>\n",
       "    <tr>\n",
       "      <th>1</th>\n",
       "      <td>21/10/2002</td>\n",
       "      <td>01:45:00</td>\n",
       "      <td>0.97215</td>\n",
       "      <td>0.97235</td>\n",
       "      <td>0.97195</td>\n",
       "      <td>0.97210</td>\n",
       "      <td>0</td>\n",
       "    </tr>\n",
       "    <tr>\n",
       "      <th>2</th>\n",
       "      <td>21/10/2002</td>\n",
       "      <td>02:00:00</td>\n",
       "      <td>0.97200</td>\n",
       "      <td>0.97260</td>\n",
       "      <td>0.97190</td>\n",
       "      <td>0.97240</td>\n",
       "      <td>0</td>\n",
       "    </tr>\n",
       "    <tr>\n",
       "      <th>3</th>\n",
       "      <td>21/10/2002</td>\n",
       "      <td>02:15:00</td>\n",
       "      <td>0.97235</td>\n",
       "      <td>0.97250</td>\n",
       "      <td>0.97220</td>\n",
       "      <td>0.97225</td>\n",
       "      <td>0</td>\n",
       "    </tr>\n",
       "    <tr>\n",
       "      <th>4</th>\n",
       "      <td>21/10/2002</td>\n",
       "      <td>02:30:00</td>\n",
       "      <td>0.97230</td>\n",
       "      <td>0.97245</td>\n",
       "      <td>0.97190</td>\n",
       "      <td>0.97195</td>\n",
       "      <td>0</td>\n",
       "    </tr>\n",
       "  </tbody>\n",
       "</table>\n",
       "</div>"
      ],
      "text/plain": [
       "   21/10/2002  01:15:00   0.9732   0.9734   0.9726  0.9726.1  0\n",
       "0  21/10/2002  01:30:00  0.97260  0.97275  0.97195   0.97205  0\n",
       "1  21/10/2002  01:45:00  0.97215  0.97235  0.97195   0.97210  0\n",
       "2  21/10/2002  02:00:00  0.97200  0.97260  0.97190   0.97240  0\n",
       "3  21/10/2002  02:15:00  0.97235  0.97250  0.97220   0.97225  0\n",
       "4  21/10/2002  02:30:00  0.97230  0.97245  0.97190   0.97195  0"
      ]
     },
     "execution_count": 3,
     "metadata": {},
     "output_type": "execute_result"
    }
   ],
   "source": [
    "# Load raw CSV file\n",
    "filepath = './data/eurusd-15m.csv'\n",
    "\n",
    "df = pd.read_csv(filepath, delimiter=';')\n",
    "df.head()    # Preview data"
   ]
  },
  {
   "cell_type": "code",
   "execution_count": 4,
   "metadata": {},
   "outputs": [
    {
     "data": {
      "text/html": [
       "<div>\n",
       "<style scoped>\n",
       "    .dataframe tbody tr th:only-of-type {\n",
       "        vertical-align: middle;\n",
       "    }\n",
       "\n",
       "    .dataframe tbody tr th {\n",
       "        vertical-align: top;\n",
       "    }\n",
       "\n",
       "    .dataframe thead th {\n",
       "        text-align: right;\n",
       "    }\n",
       "</style>\n",
       "<table border=\"1\" class=\"dataframe\">\n",
       "  <thead>\n",
       "    <tr style=\"text-align: right;\">\n",
       "      <th></th>\n",
       "      <th>date</th>\n",
       "      <th>time</th>\n",
       "      <th>open</th>\n",
       "      <th>high</th>\n",
       "      <th>low</th>\n",
       "      <th>close</th>\n",
       "    </tr>\n",
       "  </thead>\n",
       "  <tbody>\n",
       "    <tr>\n",
       "      <th>0</th>\n",
       "      <td>21/10/2002</td>\n",
       "      <td>01:30:00</td>\n",
       "      <td>0.97260</td>\n",
       "      <td>0.97275</td>\n",
       "      <td>0.97195</td>\n",
       "      <td>0.97205</td>\n",
       "    </tr>\n",
       "    <tr>\n",
       "      <th>1</th>\n",
       "      <td>21/10/2002</td>\n",
       "      <td>01:45:00</td>\n",
       "      <td>0.97215</td>\n",
       "      <td>0.97235</td>\n",
       "      <td>0.97195</td>\n",
       "      <td>0.97210</td>\n",
       "    </tr>\n",
       "    <tr>\n",
       "      <th>2</th>\n",
       "      <td>21/10/2002</td>\n",
       "      <td>02:00:00</td>\n",
       "      <td>0.97200</td>\n",
       "      <td>0.97260</td>\n",
       "      <td>0.97190</td>\n",
       "      <td>0.97240</td>\n",
       "    </tr>\n",
       "    <tr>\n",
       "      <th>3</th>\n",
       "      <td>21/10/2002</td>\n",
       "      <td>02:15:00</td>\n",
       "      <td>0.97235</td>\n",
       "      <td>0.97250</td>\n",
       "      <td>0.97220</td>\n",
       "      <td>0.97225</td>\n",
       "    </tr>\n",
       "    <tr>\n",
       "      <th>4</th>\n",
       "      <td>21/10/2002</td>\n",
       "      <td>02:30:00</td>\n",
       "      <td>0.97230</td>\n",
       "      <td>0.97245</td>\n",
       "      <td>0.97190</td>\n",
       "      <td>0.97195</td>\n",
       "    </tr>\n",
       "  </tbody>\n",
       "</table>\n",
       "</div>"
      ],
      "text/plain": [
       "         date      time     open     high      low    close\n",
       "0  21/10/2002  01:30:00  0.97260  0.97275  0.97195  0.97205\n",
       "1  21/10/2002  01:45:00  0.97215  0.97235  0.97195  0.97210\n",
       "2  21/10/2002  02:00:00  0.97200  0.97260  0.97190  0.97240\n",
       "3  21/10/2002  02:15:00  0.97235  0.97250  0.97220  0.97225\n",
       "4  21/10/2002  02:30:00  0.97230  0.97245  0.97190  0.97195"
      ]
     },
     "execution_count": 4,
     "metadata": {},
     "output_type": "execute_result"
    }
   ],
   "source": [
    "# The columns have no names and must be added.\n",
    "df.columns = ['date', 'time', 'open', 'high', 'low', 'close', 'vol']\n",
    "\n",
    "# Additionally, the \"vol\" column will not play a role in our model prediction, and will be dropped\n",
    "df.drop('vol', axis=1, inplace=True)\n",
    "\n",
    "# Preview data again\n",
    "df.head()"
   ]
  },
  {
   "cell_type": "code",
   "execution_count": 5,
   "metadata": {},
   "outputs": [
    {
     "data": {
      "text/html": [
       "<div>\n",
       "<style scoped>\n",
       "    .dataframe tbody tr th:only-of-type {\n",
       "        vertical-align: middle;\n",
       "    }\n",
       "\n",
       "    .dataframe tbody tr th {\n",
       "        vertical-align: top;\n",
       "    }\n",
       "\n",
       "    .dataframe thead th {\n",
       "        text-align: right;\n",
       "    }\n",
       "</style>\n",
       "<table border=\"1\" class=\"dataframe\">\n",
       "  <thead>\n",
       "    <tr style=\"text-align: right;\">\n",
       "      <th></th>\n",
       "      <th>open</th>\n",
       "      <th>high</th>\n",
       "      <th>low</th>\n",
       "      <th>close</th>\n",
       "      <th>datetime</th>\n",
       "    </tr>\n",
       "  </thead>\n",
       "  <tbody>\n",
       "    <tr>\n",
       "      <th>0</th>\n",
       "      <td>0.97260</td>\n",
       "      <td>0.97275</td>\n",
       "      <td>0.97195</td>\n",
       "      <td>0.97205</td>\n",
       "      <td>2002-10-21 01:30:00</td>\n",
       "    </tr>\n",
       "    <tr>\n",
       "      <th>1</th>\n",
       "      <td>0.97215</td>\n",
       "      <td>0.97235</td>\n",
       "      <td>0.97195</td>\n",
       "      <td>0.97210</td>\n",
       "      <td>2002-10-21 01:45:00</td>\n",
       "    </tr>\n",
       "    <tr>\n",
       "      <th>2</th>\n",
       "      <td>0.97200</td>\n",
       "      <td>0.97260</td>\n",
       "      <td>0.97190</td>\n",
       "      <td>0.97240</td>\n",
       "      <td>2002-10-21 02:00:00</td>\n",
       "    </tr>\n",
       "    <tr>\n",
       "      <th>3</th>\n",
       "      <td>0.97235</td>\n",
       "      <td>0.97250</td>\n",
       "      <td>0.97220</td>\n",
       "      <td>0.97225</td>\n",
       "      <td>2002-10-21 02:15:00</td>\n",
       "    </tr>\n",
       "    <tr>\n",
       "      <th>4</th>\n",
       "      <td>0.97230</td>\n",
       "      <td>0.97245</td>\n",
       "      <td>0.97190</td>\n",
       "      <td>0.97195</td>\n",
       "      <td>2002-10-21 02:30:00</td>\n",
       "    </tr>\n",
       "  </tbody>\n",
       "</table>\n",
       "</div>"
      ],
      "text/plain": [
       "      open     high      low    close            datetime\n",
       "0  0.97260  0.97275  0.97195  0.97205 2002-10-21 01:30:00\n",
       "1  0.97215  0.97235  0.97195  0.97210 2002-10-21 01:45:00\n",
       "2  0.97200  0.97260  0.97190  0.97240 2002-10-21 02:00:00\n",
       "3  0.97235  0.97250  0.97220  0.97225 2002-10-21 02:15:00\n",
       "4  0.97230  0.97245  0.97190  0.97195 2002-10-21 02:30:00"
      ]
     },
     "execution_count": 5,
     "metadata": {},
     "output_type": "execute_result"
    }
   ],
   "source": [
    "# Fixing date & time columns such that they're merged into a single column of type datetime\n",
    "\n",
    "## Merge the two columns\n",
    "df['time'] = df['time'].astype('str')\n",
    "df['date'] = df['date'].astype('str')\n",
    "\n",
    "df['datetime'] = df['date'] + \"-\" + df['time']\n",
    "\n",
    "## Drop the original columns\n",
    "df.drop(['date', 'time'], inplace=True, axis=1)\n",
    "\n",
    "## Convert the datetime column to a a column of *type* datetime\n",
    "df['datetime'] = pd.to_datetime(df['datetime'],\n",
    "               format='%d/%m/%Y-%H:%M:%S')\n",
    "\n",
    "## Preview dataframe again\n",
    "df.head()"
   ]
  },
  {
   "attachments": {},
   "cell_type": "markdown",
   "metadata": {},
   "source": [
    "Here, I'll preview the data using a candlestick chart. Here are the first 50 timesteps:"
   ]
  },
  {
   "cell_type": "code",
   "execution_count": 6,
   "metadata": {},
   "outputs": [
    {
     "data": {
      "application/vnd.plotly.v1+json": {
       "config": {
        "plotlyServerURL": "https://plot.ly"
       },
       "data": [
        {
         "close": [
          0.97205,
          0.9721,
          0.9724,
          0.97225,
          0.97195,
          0.97335,
          0.97335,
          0.9748,
          0.9757,
          0.9754,
          0.975,
          0.9753,
          0.9752,
          0.97585,
          0.97575,
          0.9755,
          0.9755,
          0.9748,
          0.9752,
          0.97485,
          0.9747,
          0.9754,
          0.97515,
          0.9742,
          0.97365,
          0.9739,
          0.9742,
          0.97465,
          0.97465,
          0.9749,
          0.97495,
          0.9746,
          0.9745,
          0.9736,
          0.9729,
          0.9728,
          0.973,
          0.9732,
          0.97345,
          0.97305,
          0.97345,
          0.9737,
          0.9738,
          0.97345,
          0.97345,
          0.9732,
          0.9734,
          0.9733,
          0.9739,
          0.9741
         ],
         "high": [
          0.97275,
          0.97235,
          0.9726,
          0.9725,
          0.97245,
          0.9734,
          0.97375,
          0.97525,
          0.97585,
          0.97575,
          0.97545,
          0.97535,
          0.97555,
          0.9759,
          0.97635,
          0.9758,
          0.9755,
          0.9754,
          0.9754,
          0.9756,
          0.97525,
          0.97555,
          0.9755,
          0.9751,
          0.97415,
          0.9739,
          0.9743,
          0.97465,
          0.9749,
          0.9753,
          0.9756,
          0.9749,
          0.9747,
          0.97465,
          0.9737,
          0.97315,
          0.97335,
          0.97335,
          0.97355,
          0.97355,
          0.97345,
          0.9737,
          0.97385,
          0.97355,
          0.97345,
          0.9735,
          0.97355,
          0.97355,
          0.97395,
          0.9743
         ],
         "low": [
          0.97195,
          0.97195,
          0.9719,
          0.9722,
          0.9719,
          0.9719,
          0.9732,
          0.97335,
          0.97465,
          0.9754,
          0.9747,
          0.9749,
          0.9752,
          0.97525,
          0.97565,
          0.9754,
          0.9753,
          0.9748,
          0.9749,
          0.9748,
          0.9746,
          0.9747,
          0.9748,
          0.97405,
          0.9734,
          0.97355,
          0.9738,
          0.974,
          0.9743,
          0.97465,
          0.97475,
          0.9744,
          0.9742,
          0.9736,
          0.9726,
          0.9724,
          0.9727,
          0.97295,
          0.97335,
          0.973,
          0.9731,
          0.9731,
          0.9738,
          0.9734,
          0.9734,
          0.97315,
          0.97325,
          0.9732,
          0.97325,
          0.97375
         ],
         "open": [
          0.9726,
          0.97215,
          0.972,
          0.97235,
          0.9723,
          0.9719,
          0.9733,
          0.97345,
          0.97475,
          0.97565,
          0.97545,
          0.9751,
          0.97525,
          0.97525,
          0.9759,
          0.9758,
          0.97545,
          0.9754,
          0.97495,
          0.97525,
          0.9749,
          0.97475,
          0.97535,
          0.9751,
          0.97415,
          0.97365,
          0.97385,
          0.97415,
          0.9746,
          0.9747,
          0.97485,
          0.97485,
          0.97465,
          0.97465,
          0.97365,
          0.9731,
          0.9727,
          0.9731,
          0.97335,
          0.97355,
          0.97315,
          0.97335,
          0.9738,
          0.97355,
          0.9734,
          0.9733,
          0.97325,
          0.9733,
          0.97345,
          0.97385
         ],
         "type": "candlestick"
        }
       ],
       "layout": {
        "template": {
         "data": {
          "bar": [
           {
            "error_x": {
             "color": "#2a3f5f"
            },
            "error_y": {
             "color": "#2a3f5f"
            },
            "marker": {
             "line": {
              "color": "#E5ECF6",
              "width": 0.5
             },
             "pattern": {
              "fillmode": "overlay",
              "size": 10,
              "solidity": 0.2
             }
            },
            "type": "bar"
           }
          ],
          "barpolar": [
           {
            "marker": {
             "line": {
              "color": "#E5ECF6",
              "width": 0.5
             },
             "pattern": {
              "fillmode": "overlay",
              "size": 10,
              "solidity": 0.2
             }
            },
            "type": "barpolar"
           }
          ],
          "carpet": [
           {
            "aaxis": {
             "endlinecolor": "#2a3f5f",
             "gridcolor": "white",
             "linecolor": "white",
             "minorgridcolor": "white",
             "startlinecolor": "#2a3f5f"
            },
            "baxis": {
             "endlinecolor": "#2a3f5f",
             "gridcolor": "white",
             "linecolor": "white",
             "minorgridcolor": "white",
             "startlinecolor": "#2a3f5f"
            },
            "type": "carpet"
           }
          ],
          "choropleth": [
           {
            "colorbar": {
             "outlinewidth": 0,
             "ticks": ""
            },
            "type": "choropleth"
           }
          ],
          "contour": [
           {
            "colorbar": {
             "outlinewidth": 0,
             "ticks": ""
            },
            "colorscale": [
             [
              0,
              "#0d0887"
             ],
             [
              0.1111111111111111,
              "#46039f"
             ],
             [
              0.2222222222222222,
              "#7201a8"
             ],
             [
              0.3333333333333333,
              "#9c179e"
             ],
             [
              0.4444444444444444,
              "#bd3786"
             ],
             [
              0.5555555555555556,
              "#d8576b"
             ],
             [
              0.6666666666666666,
              "#ed7953"
             ],
             [
              0.7777777777777778,
              "#fb9f3a"
             ],
             [
              0.8888888888888888,
              "#fdca26"
             ],
             [
              1,
              "#f0f921"
             ]
            ],
            "type": "contour"
           }
          ],
          "contourcarpet": [
           {
            "colorbar": {
             "outlinewidth": 0,
             "ticks": ""
            },
            "type": "contourcarpet"
           }
          ],
          "heatmap": [
           {
            "colorbar": {
             "outlinewidth": 0,
             "ticks": ""
            },
            "colorscale": [
             [
              0,
              "#0d0887"
             ],
             [
              0.1111111111111111,
              "#46039f"
             ],
             [
              0.2222222222222222,
              "#7201a8"
             ],
             [
              0.3333333333333333,
              "#9c179e"
             ],
             [
              0.4444444444444444,
              "#bd3786"
             ],
             [
              0.5555555555555556,
              "#d8576b"
             ],
             [
              0.6666666666666666,
              "#ed7953"
             ],
             [
              0.7777777777777778,
              "#fb9f3a"
             ],
             [
              0.8888888888888888,
              "#fdca26"
             ],
             [
              1,
              "#f0f921"
             ]
            ],
            "type": "heatmap"
           }
          ],
          "heatmapgl": [
           {
            "colorbar": {
             "outlinewidth": 0,
             "ticks": ""
            },
            "colorscale": [
             [
              0,
              "#0d0887"
             ],
             [
              0.1111111111111111,
              "#46039f"
             ],
             [
              0.2222222222222222,
              "#7201a8"
             ],
             [
              0.3333333333333333,
              "#9c179e"
             ],
             [
              0.4444444444444444,
              "#bd3786"
             ],
             [
              0.5555555555555556,
              "#d8576b"
             ],
             [
              0.6666666666666666,
              "#ed7953"
             ],
             [
              0.7777777777777778,
              "#fb9f3a"
             ],
             [
              0.8888888888888888,
              "#fdca26"
             ],
             [
              1,
              "#f0f921"
             ]
            ],
            "type": "heatmapgl"
           }
          ],
          "histogram": [
           {
            "marker": {
             "pattern": {
              "fillmode": "overlay",
              "size": 10,
              "solidity": 0.2
             }
            },
            "type": "histogram"
           }
          ],
          "histogram2d": [
           {
            "colorbar": {
             "outlinewidth": 0,
             "ticks": ""
            },
            "colorscale": [
             [
              0,
              "#0d0887"
             ],
             [
              0.1111111111111111,
              "#46039f"
             ],
             [
              0.2222222222222222,
              "#7201a8"
             ],
             [
              0.3333333333333333,
              "#9c179e"
             ],
             [
              0.4444444444444444,
              "#bd3786"
             ],
             [
              0.5555555555555556,
              "#d8576b"
             ],
             [
              0.6666666666666666,
              "#ed7953"
             ],
             [
              0.7777777777777778,
              "#fb9f3a"
             ],
             [
              0.8888888888888888,
              "#fdca26"
             ],
             [
              1,
              "#f0f921"
             ]
            ],
            "type": "histogram2d"
           }
          ],
          "histogram2dcontour": [
           {
            "colorbar": {
             "outlinewidth": 0,
             "ticks": ""
            },
            "colorscale": [
             [
              0,
              "#0d0887"
             ],
             [
              0.1111111111111111,
              "#46039f"
             ],
             [
              0.2222222222222222,
              "#7201a8"
             ],
             [
              0.3333333333333333,
              "#9c179e"
             ],
             [
              0.4444444444444444,
              "#bd3786"
             ],
             [
              0.5555555555555556,
              "#d8576b"
             ],
             [
              0.6666666666666666,
              "#ed7953"
             ],
             [
              0.7777777777777778,
              "#fb9f3a"
             ],
             [
              0.8888888888888888,
              "#fdca26"
             ],
             [
              1,
              "#f0f921"
             ]
            ],
            "type": "histogram2dcontour"
           }
          ],
          "mesh3d": [
           {
            "colorbar": {
             "outlinewidth": 0,
             "ticks": ""
            },
            "type": "mesh3d"
           }
          ],
          "parcoords": [
           {
            "line": {
             "colorbar": {
              "outlinewidth": 0,
              "ticks": ""
             }
            },
            "type": "parcoords"
           }
          ],
          "pie": [
           {
            "automargin": true,
            "type": "pie"
           }
          ],
          "scatter": [
           {
            "fillpattern": {
             "fillmode": "overlay",
             "size": 10,
             "solidity": 0.2
            },
            "type": "scatter"
           }
          ],
          "scatter3d": [
           {
            "line": {
             "colorbar": {
              "outlinewidth": 0,
              "ticks": ""
             }
            },
            "marker": {
             "colorbar": {
              "outlinewidth": 0,
              "ticks": ""
             }
            },
            "type": "scatter3d"
           }
          ],
          "scattercarpet": [
           {
            "marker": {
             "colorbar": {
              "outlinewidth": 0,
              "ticks": ""
             }
            },
            "type": "scattercarpet"
           }
          ],
          "scattergeo": [
           {
            "marker": {
             "colorbar": {
              "outlinewidth": 0,
              "ticks": ""
             }
            },
            "type": "scattergeo"
           }
          ],
          "scattergl": [
           {
            "marker": {
             "colorbar": {
              "outlinewidth": 0,
              "ticks": ""
             }
            },
            "type": "scattergl"
           }
          ],
          "scattermapbox": [
           {
            "marker": {
             "colorbar": {
              "outlinewidth": 0,
              "ticks": ""
             }
            },
            "type": "scattermapbox"
           }
          ],
          "scatterpolar": [
           {
            "marker": {
             "colorbar": {
              "outlinewidth": 0,
              "ticks": ""
             }
            },
            "type": "scatterpolar"
           }
          ],
          "scatterpolargl": [
           {
            "marker": {
             "colorbar": {
              "outlinewidth": 0,
              "ticks": ""
             }
            },
            "type": "scatterpolargl"
           }
          ],
          "scatterternary": [
           {
            "marker": {
             "colorbar": {
              "outlinewidth": 0,
              "ticks": ""
             }
            },
            "type": "scatterternary"
           }
          ],
          "surface": [
           {
            "colorbar": {
             "outlinewidth": 0,
             "ticks": ""
            },
            "colorscale": [
             [
              0,
              "#0d0887"
             ],
             [
              0.1111111111111111,
              "#46039f"
             ],
             [
              0.2222222222222222,
              "#7201a8"
             ],
             [
              0.3333333333333333,
              "#9c179e"
             ],
             [
              0.4444444444444444,
              "#bd3786"
             ],
             [
              0.5555555555555556,
              "#d8576b"
             ],
             [
              0.6666666666666666,
              "#ed7953"
             ],
             [
              0.7777777777777778,
              "#fb9f3a"
             ],
             [
              0.8888888888888888,
              "#fdca26"
             ],
             [
              1,
              "#f0f921"
             ]
            ],
            "type": "surface"
           }
          ],
          "table": [
           {
            "cells": {
             "fill": {
              "color": "#EBF0F8"
             },
             "line": {
              "color": "white"
             }
            },
            "header": {
             "fill": {
              "color": "#C8D4E3"
             },
             "line": {
              "color": "white"
             }
            },
            "type": "table"
           }
          ]
         },
         "layout": {
          "annotationdefaults": {
           "arrowcolor": "#2a3f5f",
           "arrowhead": 0,
           "arrowwidth": 1
          },
          "autotypenumbers": "strict",
          "coloraxis": {
           "colorbar": {
            "outlinewidth": 0,
            "ticks": ""
           }
          },
          "colorscale": {
           "diverging": [
            [
             0,
             "#8e0152"
            ],
            [
             0.1,
             "#c51b7d"
            ],
            [
             0.2,
             "#de77ae"
            ],
            [
             0.3,
             "#f1b6da"
            ],
            [
             0.4,
             "#fde0ef"
            ],
            [
             0.5,
             "#f7f7f7"
            ],
            [
             0.6,
             "#e6f5d0"
            ],
            [
             0.7,
             "#b8e186"
            ],
            [
             0.8,
             "#7fbc41"
            ],
            [
             0.9,
             "#4d9221"
            ],
            [
             1,
             "#276419"
            ]
           ],
           "sequential": [
            [
             0,
             "#0d0887"
            ],
            [
             0.1111111111111111,
             "#46039f"
            ],
            [
             0.2222222222222222,
             "#7201a8"
            ],
            [
             0.3333333333333333,
             "#9c179e"
            ],
            [
             0.4444444444444444,
             "#bd3786"
            ],
            [
             0.5555555555555556,
             "#d8576b"
            ],
            [
             0.6666666666666666,
             "#ed7953"
            ],
            [
             0.7777777777777778,
             "#fb9f3a"
            ],
            [
             0.8888888888888888,
             "#fdca26"
            ],
            [
             1,
             "#f0f921"
            ]
           ],
           "sequentialminus": [
            [
             0,
             "#0d0887"
            ],
            [
             0.1111111111111111,
             "#46039f"
            ],
            [
             0.2222222222222222,
             "#7201a8"
            ],
            [
             0.3333333333333333,
             "#9c179e"
            ],
            [
             0.4444444444444444,
             "#bd3786"
            ],
            [
             0.5555555555555556,
             "#d8576b"
            ],
            [
             0.6666666666666666,
             "#ed7953"
            ],
            [
             0.7777777777777778,
             "#fb9f3a"
            ],
            [
             0.8888888888888888,
             "#fdca26"
            ],
            [
             1,
             "#f0f921"
            ]
           ]
          },
          "colorway": [
           "#636efa",
           "#EF553B",
           "#00cc96",
           "#ab63fa",
           "#FFA15A",
           "#19d3f3",
           "#FF6692",
           "#B6E880",
           "#FF97FF",
           "#FECB52"
          ],
          "font": {
           "color": "#2a3f5f"
          },
          "geo": {
           "bgcolor": "white",
           "lakecolor": "white",
           "landcolor": "#E5ECF6",
           "showlakes": true,
           "showland": true,
           "subunitcolor": "white"
          },
          "hoverlabel": {
           "align": "left"
          },
          "hovermode": "closest",
          "mapbox": {
           "style": "light"
          },
          "paper_bgcolor": "white",
          "plot_bgcolor": "#E5ECF6",
          "polar": {
           "angularaxis": {
            "gridcolor": "white",
            "linecolor": "white",
            "ticks": ""
           },
           "bgcolor": "#E5ECF6",
           "radialaxis": {
            "gridcolor": "white",
            "linecolor": "white",
            "ticks": ""
           }
          },
          "scene": {
           "xaxis": {
            "backgroundcolor": "#E5ECF6",
            "gridcolor": "white",
            "gridwidth": 2,
            "linecolor": "white",
            "showbackground": true,
            "ticks": "",
            "zerolinecolor": "white"
           },
           "yaxis": {
            "backgroundcolor": "#E5ECF6",
            "gridcolor": "white",
            "gridwidth": 2,
            "linecolor": "white",
            "showbackground": true,
            "ticks": "",
            "zerolinecolor": "white"
           },
           "zaxis": {
            "backgroundcolor": "#E5ECF6",
            "gridcolor": "white",
            "gridwidth": 2,
            "linecolor": "white",
            "showbackground": true,
            "ticks": "",
            "zerolinecolor": "white"
           }
          },
          "shapedefaults": {
           "line": {
            "color": "#2a3f5f"
           }
          },
          "ternary": {
           "aaxis": {
            "gridcolor": "white",
            "linecolor": "white",
            "ticks": ""
           },
           "baxis": {
            "gridcolor": "white",
            "linecolor": "white",
            "ticks": ""
           },
           "bgcolor": "#E5ECF6",
           "caxis": {
            "gridcolor": "white",
            "linecolor": "white",
            "ticks": ""
           }
          },
          "title": {
           "x": 0.05
          },
          "xaxis": {
           "automargin": true,
           "gridcolor": "white",
           "linecolor": "white",
           "ticks": "",
           "title": {
            "standoff": 15
           },
           "zerolinecolor": "white",
           "zerolinewidth": 2
          },
          "yaxis": {
           "automargin": true,
           "gridcolor": "white",
           "linecolor": "white",
           "ticks": "",
           "title": {
            "standoff": 15
           },
           "zerolinecolor": "white",
           "zerolinewidth": 2
          }
         }
        },
        "xaxis": {
         "rangeslider": {
          "visible": false
         }
        }
       }
      }
     },
     "metadata": {},
     "output_type": "display_data"
    }
   ],
   "source": [
    "timestep = 50\n",
    "\n",
    "fig = go.Figure(data=[\n",
    "    go.Candlestick(open=df['open'][:timestep], high=df['high'][:timestep],\n",
    "    low=df['low'][:timestep], close=df['close'][:timestep]\n",
    "    )\n",
    "])\n",
    "            \n",
    "fig.update_layout(xaxis_rangeslider_visible=False)\n",
    "fig.show()"
   ]
  },
  {
   "attachments": {},
   "cell_type": "markdown",
   "metadata": {},
   "source": [
    "Here are the last 50 timesteps:"
   ]
  },
  {
   "cell_type": "code",
   "execution_count": 7,
   "metadata": {},
   "outputs": [
    {
     "data": {
      "application/vnd.plotly.v1+json": {
       "config": {
        "plotlyServerURL": "https://plot.ly"
       },
       "data": [
        {
         "close": [
          1.05375,
          1.0547,
          1.05583,
          1.05553,
          1.05477,
          1.05564,
          1.05473,
          1.05336,
          1.05404,
          1.054,
          1.05429,
          1.054,
          1.05259,
          1.05288,
          1.05321,
          1.05284,
          1.05352,
          1.05307,
          1.05284,
          1.05389,
          1.05427,
          1.05482,
          1.05506,
          1.05544,
          1.05579,
          1.05632,
          1.0561,
          1.05559,
          1.05544,
          1.05497,
          1.05568,
          1.05572,
          1.05614,
          1.05587,
          1.05625,
          1.05593,
          1.05609,
          1.05616,
          1.05613,
          1.05634,
          1.05632,
          1.05646,
          1.05647,
          1.05643,
          1.0564,
          1.05638,
          1.0564,
          1.05575,
          1.05598,
          1.05594
         ],
         "high": [
          1.05438,
          1.05519,
          1.05585,
          1.056,
          1.05588,
          1.05577,
          1.05574,
          1.05482,
          1.05414,
          1.05428,
          1.0545,
          1.05448,
          1.05402,
          1.05292,
          1.05376,
          1.05329,
          1.05356,
          1.05367,
          1.05307,
          1.05398,
          1.05442,
          1.05487,
          1.05523,
          1.05547,
          1.05579,
          1.05647,
          1.05636,
          1.05633,
          1.05579,
          1.05546,
          1.05583,
          1.05585,
          1.05626,
          1.05618,
          1.05644,
          1.05627,
          1.05609,
          1.05626,
          1.05618,
          1.05653,
          1.05647,
          1.05648,
          1.05654,
          1.05658,
          1.05646,
          1.05656,
          1.05655,
          1.05644,
          1.05612,
          1.05618
         ],
         "low": [
          1.05309,
          1.05235,
          1.05433,
          1.05462,
          1.05416,
          1.05477,
          1.05464,
          1.05335,
          1.05332,
          1.05312,
          1.05369,
          1.05391,
          1.05259,
          1.05251,
          1.05286,
          1.05251,
          1.0526,
          1.05301,
          1.05262,
          1.05284,
          1.05389,
          1.05404,
          1.05481,
          1.05491,
          1.05543,
          1.05576,
          1.056,
          1.05559,
          1.05541,
          1.05486,
          1.05494,
          1.05552,
          1.05568,
          1.05578,
          1.05585,
          1.05589,
          1.05591,
          1.05607,
          1.05605,
          1.05612,
          1.0563,
          1.05629,
          1.05637,
          1.05631,
          1.05638,
          1.05636,
          1.05627,
          1.05575,
          1.05575,
          1.05593
         ],
         "open": [
          1.05401,
          1.05375,
          1.0547,
          1.05584,
          1.05553,
          1.05478,
          1.05565,
          1.05473,
          1.05337,
          1.05404,
          1.054,
          1.05429,
          1.05399,
          1.05259,
          1.05288,
          1.0532,
          1.05283,
          1.05352,
          1.05307,
          1.05284,
          1.05389,
          1.05428,
          1.05481,
          1.05506,
          1.05544,
          1.05579,
          1.05632,
          1.0561,
          1.05559,
          1.05544,
          1.05497,
          1.05567,
          1.05572,
          1.05615,
          1.05587,
          1.05624,
          1.05593,
          1.05609,
          1.05616,
          1.05613,
          1.05634,
          1.05632,
          1.05645,
          1.05646,
          1.05643,
          1.0564,
          1.05639,
          1.0564,
          1.05575,
          1.05597
         ],
         "type": "candlestick"
        }
       ],
       "layout": {
        "template": {
         "data": {
          "bar": [
           {
            "error_x": {
             "color": "#2a3f5f"
            },
            "error_y": {
             "color": "#2a3f5f"
            },
            "marker": {
             "line": {
              "color": "#E5ECF6",
              "width": 0.5
             },
             "pattern": {
              "fillmode": "overlay",
              "size": 10,
              "solidity": 0.2
             }
            },
            "type": "bar"
           }
          ],
          "barpolar": [
           {
            "marker": {
             "line": {
              "color": "#E5ECF6",
              "width": 0.5
             },
             "pattern": {
              "fillmode": "overlay",
              "size": 10,
              "solidity": 0.2
             }
            },
            "type": "barpolar"
           }
          ],
          "carpet": [
           {
            "aaxis": {
             "endlinecolor": "#2a3f5f",
             "gridcolor": "white",
             "linecolor": "white",
             "minorgridcolor": "white",
             "startlinecolor": "#2a3f5f"
            },
            "baxis": {
             "endlinecolor": "#2a3f5f",
             "gridcolor": "white",
             "linecolor": "white",
             "minorgridcolor": "white",
             "startlinecolor": "#2a3f5f"
            },
            "type": "carpet"
           }
          ],
          "choropleth": [
           {
            "colorbar": {
             "outlinewidth": 0,
             "ticks": ""
            },
            "type": "choropleth"
           }
          ],
          "contour": [
           {
            "colorbar": {
             "outlinewidth": 0,
             "ticks": ""
            },
            "colorscale": [
             [
              0,
              "#0d0887"
             ],
             [
              0.1111111111111111,
              "#46039f"
             ],
             [
              0.2222222222222222,
              "#7201a8"
             ],
             [
              0.3333333333333333,
              "#9c179e"
             ],
             [
              0.4444444444444444,
              "#bd3786"
             ],
             [
              0.5555555555555556,
              "#d8576b"
             ],
             [
              0.6666666666666666,
              "#ed7953"
             ],
             [
              0.7777777777777778,
              "#fb9f3a"
             ],
             [
              0.8888888888888888,
              "#fdca26"
             ],
             [
              1,
              "#f0f921"
             ]
            ],
            "type": "contour"
           }
          ],
          "contourcarpet": [
           {
            "colorbar": {
             "outlinewidth": 0,
             "ticks": ""
            },
            "type": "contourcarpet"
           }
          ],
          "heatmap": [
           {
            "colorbar": {
             "outlinewidth": 0,
             "ticks": ""
            },
            "colorscale": [
             [
              0,
              "#0d0887"
             ],
             [
              0.1111111111111111,
              "#46039f"
             ],
             [
              0.2222222222222222,
              "#7201a8"
             ],
             [
              0.3333333333333333,
              "#9c179e"
             ],
             [
              0.4444444444444444,
              "#bd3786"
             ],
             [
              0.5555555555555556,
              "#d8576b"
             ],
             [
              0.6666666666666666,
              "#ed7953"
             ],
             [
              0.7777777777777778,
              "#fb9f3a"
             ],
             [
              0.8888888888888888,
              "#fdca26"
             ],
             [
              1,
              "#f0f921"
             ]
            ],
            "type": "heatmap"
           }
          ],
          "heatmapgl": [
           {
            "colorbar": {
             "outlinewidth": 0,
             "ticks": ""
            },
            "colorscale": [
             [
              0,
              "#0d0887"
             ],
             [
              0.1111111111111111,
              "#46039f"
             ],
             [
              0.2222222222222222,
              "#7201a8"
             ],
             [
              0.3333333333333333,
              "#9c179e"
             ],
             [
              0.4444444444444444,
              "#bd3786"
             ],
             [
              0.5555555555555556,
              "#d8576b"
             ],
             [
              0.6666666666666666,
              "#ed7953"
             ],
             [
              0.7777777777777778,
              "#fb9f3a"
             ],
             [
              0.8888888888888888,
              "#fdca26"
             ],
             [
              1,
              "#f0f921"
             ]
            ],
            "type": "heatmapgl"
           }
          ],
          "histogram": [
           {
            "marker": {
             "pattern": {
              "fillmode": "overlay",
              "size": 10,
              "solidity": 0.2
             }
            },
            "type": "histogram"
           }
          ],
          "histogram2d": [
           {
            "colorbar": {
             "outlinewidth": 0,
             "ticks": ""
            },
            "colorscale": [
             [
              0,
              "#0d0887"
             ],
             [
              0.1111111111111111,
              "#46039f"
             ],
             [
              0.2222222222222222,
              "#7201a8"
             ],
             [
              0.3333333333333333,
              "#9c179e"
             ],
             [
              0.4444444444444444,
              "#bd3786"
             ],
             [
              0.5555555555555556,
              "#d8576b"
             ],
             [
              0.6666666666666666,
              "#ed7953"
             ],
             [
              0.7777777777777778,
              "#fb9f3a"
             ],
             [
              0.8888888888888888,
              "#fdca26"
             ],
             [
              1,
              "#f0f921"
             ]
            ],
            "type": "histogram2d"
           }
          ],
          "histogram2dcontour": [
           {
            "colorbar": {
             "outlinewidth": 0,
             "ticks": ""
            },
            "colorscale": [
             [
              0,
              "#0d0887"
             ],
             [
              0.1111111111111111,
              "#46039f"
             ],
             [
              0.2222222222222222,
              "#7201a8"
             ],
             [
              0.3333333333333333,
              "#9c179e"
             ],
             [
              0.4444444444444444,
              "#bd3786"
             ],
             [
              0.5555555555555556,
              "#d8576b"
             ],
             [
              0.6666666666666666,
              "#ed7953"
             ],
             [
              0.7777777777777778,
              "#fb9f3a"
             ],
             [
              0.8888888888888888,
              "#fdca26"
             ],
             [
              1,
              "#f0f921"
             ]
            ],
            "type": "histogram2dcontour"
           }
          ],
          "mesh3d": [
           {
            "colorbar": {
             "outlinewidth": 0,
             "ticks": ""
            },
            "type": "mesh3d"
           }
          ],
          "parcoords": [
           {
            "line": {
             "colorbar": {
              "outlinewidth": 0,
              "ticks": ""
             }
            },
            "type": "parcoords"
           }
          ],
          "pie": [
           {
            "automargin": true,
            "type": "pie"
           }
          ],
          "scatter": [
           {
            "fillpattern": {
             "fillmode": "overlay",
             "size": 10,
             "solidity": 0.2
            },
            "type": "scatter"
           }
          ],
          "scatter3d": [
           {
            "line": {
             "colorbar": {
              "outlinewidth": 0,
              "ticks": ""
             }
            },
            "marker": {
             "colorbar": {
              "outlinewidth": 0,
              "ticks": ""
             }
            },
            "type": "scatter3d"
           }
          ],
          "scattercarpet": [
           {
            "marker": {
             "colorbar": {
              "outlinewidth": 0,
              "ticks": ""
             }
            },
            "type": "scattercarpet"
           }
          ],
          "scattergeo": [
           {
            "marker": {
             "colorbar": {
              "outlinewidth": 0,
              "ticks": ""
             }
            },
            "type": "scattergeo"
           }
          ],
          "scattergl": [
           {
            "marker": {
             "colorbar": {
              "outlinewidth": 0,
              "ticks": ""
             }
            },
            "type": "scattergl"
           }
          ],
          "scattermapbox": [
           {
            "marker": {
             "colorbar": {
              "outlinewidth": 0,
              "ticks": ""
             }
            },
            "type": "scattermapbox"
           }
          ],
          "scatterpolar": [
           {
            "marker": {
             "colorbar": {
              "outlinewidth": 0,
              "ticks": ""
             }
            },
            "type": "scatterpolar"
           }
          ],
          "scatterpolargl": [
           {
            "marker": {
             "colorbar": {
              "outlinewidth": 0,
              "ticks": ""
             }
            },
            "type": "scatterpolargl"
           }
          ],
          "scatterternary": [
           {
            "marker": {
             "colorbar": {
              "outlinewidth": 0,
              "ticks": ""
             }
            },
            "type": "scatterternary"
           }
          ],
          "surface": [
           {
            "colorbar": {
             "outlinewidth": 0,
             "ticks": ""
            },
            "colorscale": [
             [
              0,
              "#0d0887"
             ],
             [
              0.1111111111111111,
              "#46039f"
             ],
             [
              0.2222222222222222,
              "#7201a8"
             ],
             [
              0.3333333333333333,
              "#9c179e"
             ],
             [
              0.4444444444444444,
              "#bd3786"
             ],
             [
              0.5555555555555556,
              "#d8576b"
             ],
             [
              0.6666666666666666,
              "#ed7953"
             ],
             [
              0.7777777777777778,
              "#fb9f3a"
             ],
             [
              0.8888888888888888,
              "#fdca26"
             ],
             [
              1,
              "#f0f921"
             ]
            ],
            "type": "surface"
           }
          ],
          "table": [
           {
            "cells": {
             "fill": {
              "color": "#EBF0F8"
             },
             "line": {
              "color": "white"
             }
            },
            "header": {
             "fill": {
              "color": "#C8D4E3"
             },
             "line": {
              "color": "white"
             }
            },
            "type": "table"
           }
          ]
         },
         "layout": {
          "annotationdefaults": {
           "arrowcolor": "#2a3f5f",
           "arrowhead": 0,
           "arrowwidth": 1
          },
          "autotypenumbers": "strict",
          "coloraxis": {
           "colorbar": {
            "outlinewidth": 0,
            "ticks": ""
           }
          },
          "colorscale": {
           "diverging": [
            [
             0,
             "#8e0152"
            ],
            [
             0.1,
             "#c51b7d"
            ],
            [
             0.2,
             "#de77ae"
            ],
            [
             0.3,
             "#f1b6da"
            ],
            [
             0.4,
             "#fde0ef"
            ],
            [
             0.5,
             "#f7f7f7"
            ],
            [
             0.6,
             "#e6f5d0"
            ],
            [
             0.7,
             "#b8e186"
            ],
            [
             0.8,
             "#7fbc41"
            ],
            [
             0.9,
             "#4d9221"
            ],
            [
             1,
             "#276419"
            ]
           ],
           "sequential": [
            [
             0,
             "#0d0887"
            ],
            [
             0.1111111111111111,
             "#46039f"
            ],
            [
             0.2222222222222222,
             "#7201a8"
            ],
            [
             0.3333333333333333,
             "#9c179e"
            ],
            [
             0.4444444444444444,
             "#bd3786"
            ],
            [
             0.5555555555555556,
             "#d8576b"
            ],
            [
             0.6666666666666666,
             "#ed7953"
            ],
            [
             0.7777777777777778,
             "#fb9f3a"
            ],
            [
             0.8888888888888888,
             "#fdca26"
            ],
            [
             1,
             "#f0f921"
            ]
           ],
           "sequentialminus": [
            [
             0,
             "#0d0887"
            ],
            [
             0.1111111111111111,
             "#46039f"
            ],
            [
             0.2222222222222222,
             "#7201a8"
            ],
            [
             0.3333333333333333,
             "#9c179e"
            ],
            [
             0.4444444444444444,
             "#bd3786"
            ],
            [
             0.5555555555555556,
             "#d8576b"
            ],
            [
             0.6666666666666666,
             "#ed7953"
            ],
            [
             0.7777777777777778,
             "#fb9f3a"
            ],
            [
             0.8888888888888888,
             "#fdca26"
            ],
            [
             1,
             "#f0f921"
            ]
           ]
          },
          "colorway": [
           "#636efa",
           "#EF553B",
           "#00cc96",
           "#ab63fa",
           "#FFA15A",
           "#19d3f3",
           "#FF6692",
           "#B6E880",
           "#FF97FF",
           "#FECB52"
          ],
          "font": {
           "color": "#2a3f5f"
          },
          "geo": {
           "bgcolor": "white",
           "lakecolor": "white",
           "landcolor": "#E5ECF6",
           "showlakes": true,
           "showland": true,
           "subunitcolor": "white"
          },
          "hoverlabel": {
           "align": "left"
          },
          "hovermode": "closest",
          "mapbox": {
           "style": "light"
          },
          "paper_bgcolor": "white",
          "plot_bgcolor": "#E5ECF6",
          "polar": {
           "angularaxis": {
            "gridcolor": "white",
            "linecolor": "white",
            "ticks": ""
           },
           "bgcolor": "#E5ECF6",
           "radialaxis": {
            "gridcolor": "white",
            "linecolor": "white",
            "ticks": ""
           }
          },
          "scene": {
           "xaxis": {
            "backgroundcolor": "#E5ECF6",
            "gridcolor": "white",
            "gridwidth": 2,
            "linecolor": "white",
            "showbackground": true,
            "ticks": "",
            "zerolinecolor": "white"
           },
           "yaxis": {
            "backgroundcolor": "#E5ECF6",
            "gridcolor": "white",
            "gridwidth": 2,
            "linecolor": "white",
            "showbackground": true,
            "ticks": "",
            "zerolinecolor": "white"
           },
           "zaxis": {
            "backgroundcolor": "#E5ECF6",
            "gridcolor": "white",
            "gridwidth": 2,
            "linecolor": "white",
            "showbackground": true,
            "ticks": "",
            "zerolinecolor": "white"
           }
          },
          "shapedefaults": {
           "line": {
            "color": "#2a3f5f"
           }
          },
          "ternary": {
           "aaxis": {
            "gridcolor": "white",
            "linecolor": "white",
            "ticks": ""
           },
           "baxis": {
            "gridcolor": "white",
            "linecolor": "white",
            "ticks": ""
           },
           "bgcolor": "#E5ECF6",
           "caxis": {
            "gridcolor": "white",
            "linecolor": "white",
            "ticks": ""
           }
          },
          "title": {
           "x": 0.05
          },
          "xaxis": {
           "automargin": true,
           "gridcolor": "white",
           "linecolor": "white",
           "ticks": "",
           "title": {
            "standoff": 15
           },
           "zerolinecolor": "white",
           "zerolinewidth": 2
          },
          "yaxis": {
           "automargin": true,
           "gridcolor": "white",
           "linecolor": "white",
           "ticks": "",
           "title": {
            "standoff": 15
           },
           "zerolinecolor": "white",
           "zerolinewidth": 2
          }
         }
        },
        "xaxis": {
         "rangeslider": {
          "visible": false
         }
        }
       }
      }
     },
     "metadata": {},
     "output_type": "display_data"
    }
   ],
   "source": [
    "timestep = -50\n",
    "\n",
    "fig = go.Figure(data=[\n",
    "    go.Candlestick(open=df['open'][timestep:], high=df['high'][timestep:],\n",
    "    low=df['low'][timestep:], close=df['close'][timestep:]\n",
    "    )\n",
    "])\n",
    "            \n",
    "fig.update_layout(xaxis_rangeslider_visible=False)\n",
    "fig.show()"
   ]
  },
  {
   "attachments": {},
   "cell_type": "markdown",
   "metadata": {},
   "source": [
    "# Model Building\n",
    "\n",
    "Here, I'll define the parameters that'll dictate model architecture. Two specific parameters are of importance here:\n",
    "- `LOOK_BACK`: How many timesteps into the past will the model recieve as input. For instance, if `LOOK_BACK` is 25, the model will be fed 25 timesteps in the past simultaneously.\n",
    "- `LOOK_FORWARD`: How many timesteps into the future will the model output as a prediction. For instance, if `LOOK_FORWARD` is 3, then the model will output 3 OHLC data for 3 timesteps into the future. \n",
    "\n",
    "Additionally, I'll be setting aside 5% of the data for validation. Given that our dataset is relatively large, 5% is more than enough to be able to illustrate our model's performance on unseen data. "
   ]
  },
  {
   "cell_type": "code",
   "execution_count": 8,
   "metadata": {},
   "outputs": [],
   "source": [
    "# Model parameters\n",
    "\n",
    "N_FEATURES = 4\n",
    "LOOK_BACK = 25\n",
    "LOOK_FORWARD = 3\n",
    "LEARNING_RATE = 0.0001\n",
    "\n",
    "N_EPOCHS = 200\n",
    "BATCH_SIZE = 250\n",
    "VALIDATION_SIZE = 0.05\n",
    "N_UNITS = 128\n",
    "\n",
    "model_dir = './models/'\n",
    "model_name = \"baseline.keras\"\n"
   ]
  },
  {
   "cell_type": "code",
   "execution_count": 9,
   "metadata": {},
   "outputs": [],
   "source": [
    "# convert an array of values into a dataset matrix\n",
    "def create_dataset_x(dataset, look_back, look_forward):\n",
    "    data = []\n",
    "    for i in range(look_back, len(dataset)-look_forward-1):\n",
    "        a = dataset[i-look_back:i]\n",
    "        data.append(a)\n",
    "    return np.array(data)\n",
    "\n",
    "def create_dataset_y(dataset, look_back, look_forward):\n",
    "    data = []\n",
    "    for i in range(look_back, len(dataset)-look_forward-1):\n",
    "        a = dataset[i:(i+look_forward)]\n",
    "        data.append(a)\n",
    "    return np.array(data)"
   ]
  },
  {
   "cell_type": "code",
   "execution_count": 10,
   "metadata": {},
   "outputs": [
    {
     "name": "stdout",
     "output_type": "stream",
     "text": [
      "X data created\n",
      "Y data created\n"
     ]
    }
   ],
   "source": [
    "# Prep data\n",
    "X = df.drop('datetime', axis=1)\n",
    "Y = df.drop('datetime', axis=1)\n",
    "\n",
    "# Make train/validation\n",
    "data_x = create_dataset_x(X.values.reshape((-1, 4)), LOOK_BACK, LOOK_FORWARD)\n",
    "print(\"X data created\")\n",
    "\n",
    "data_y = create_dataset_y(Y, LOOK_BACK, LOOK_FORWARD)\n",
    "data_y = data_y.reshape(-1, N_FEATURES*LOOK_FORWARD)\n",
    "print(\"Y data created\")\n",
    "\n",
    "test_idx = int(data_x.shape[0] * VALIDATION_SIZE)\n",
    "\n",
    "train_x, val_x = data_x[:test_idx], data_x[test_idx:]\n",
    "train_y, val_y = data_y[:test_idx], data_y[test_idx:]"
   ]
  },
  {
   "attachments": {},
   "cell_type": "markdown",
   "metadata": {},
   "source": [
    "As briefly mentioned above, the architecture that will be used is a *stacked LSTM* model.\n",
    "\n",
    "LSTMS are a type of recurrent neural networks specifically designed to handle long-term dependencies, which means that they can capture patterns and dependencies in sequences. LSTMs also perform implicit feature extraction, meaning they can automatically learn and extract important features from the input sequences without requiring explicit feature engineering. This makes this specifc type of network particularly useful when dealing with complex data such as Forex prices.\n",
    "\n",
    "Stacking LSTMS comes with a number of benefits, including increased model capacity and improved representation learning for capturing higher-level temporal patterns."
   ]
  },
  {
   "cell_type": "code",
   "execution_count": 11,
   "metadata": {},
   "outputs": [
    {
     "name": "stdout",
     "output_type": "stream",
     "text": [
      "WARNING:tensorflow:From c:\\Users\\Saqi\\anaconda3\\lib\\site-packages\\keras\\src\\backend.py:873: The name tf.get_default_graph is deprecated. Please use tf.compat.v1.get_default_graph instead.\n",
      "\n",
      "Model: \"sequential\"\n",
      "_________________________________________________________________\n",
      " Layer (type)                Output Shape              Param #   \n",
      "=================================================================\n",
      " lstm (LSTM)                 (None, 25, 128)           68096     \n",
      "                                                                 \n",
      " lstm_1 (LSTM)               (None, 128)               131584    \n",
      "                                                                 \n",
      " dense (Dense)               (None, 12)                1548      \n",
      "                                                                 \n",
      "=================================================================\n",
      "Total params: 201228 (786.05 KB)\n",
      "Trainable params: 201228 (786.05 KB)\n",
      "Non-trainable params: 0 (0.00 Byte)\n",
      "_________________________________________________________________\n"
     ]
    }
   ],
   "source": [
    "# Define model architecture\n",
    "model = Sequential()\n",
    "\n",
    "model.add(LSTM(units=N_UNITS, return_sequences=True, input_shape=(LOOK_BACK, N_FEATURES)))  # LSTM layer with input shape (batch_size, timesteps, input_dim)\n",
    "\n",
    "# model.add(LSTM(units=N_UNITS*2, return_sequences=True)) \n",
    "\n",
    "model.add(LSTM(units=N_UNITS, return_sequences=False))  # Stacked LSTM layer\n",
    "\n",
    "# Output layer\n",
    "model.add(Dense(units=N_FEATURES*LOOK_FORWARD))\n",
    "\n",
    "# Compile model\n",
    "opt = keras.optimizers.Adam(learning_rate=LEARNING_RATE)\n",
    "model.compile(optimizer=opt, loss='mse')\n",
    "\n",
    "# Print model summary\n",
    "model.summary()"
   ]
  },
  {
   "cell_type": "code",
   "execution_count": 12,
   "metadata": {},
   "outputs": [
    {
     "name": "stdout",
     "output_type": "stream",
     "text": [
      "Epoch 1/200\n",
      "WARNING:tensorflow:From c:\\Users\\Saqi\\anaconda3\\lib\\site-packages\\keras\\src\\utils\\tf_utils.py:492: The name tf.ragged.RaggedTensorValue is deprecated. Please use tf.compat.v1.ragged.RaggedTensorValue instead.\n",
      "\n",
      "107/107 - 85s - loss: 0.1986 - val_loss: 0.0157 - 85s/epoch - 790ms/step\n",
      "Epoch 2/200\n",
      "107/107 - 84s - loss: 0.0011 - val_loss: 0.0143 - 84s/epoch - 784ms/step\n",
      "Epoch 3/200\n",
      "107/107 - 82s - loss: 9.0722e-04 - val_loss: 0.0122 - 82s/epoch - 769ms/step\n",
      "Epoch 4/200\n",
      "107/107 - 82s - loss: 7.3298e-04 - val_loss: 0.0101 - 82s/epoch - 766ms/step\n",
      "Epoch 5/200\n",
      "107/107 - 82s - loss: 5.5644e-04 - val_loss: 0.0080 - 82s/epoch - 762ms/step\n",
      "Epoch 6/200\n",
      "107/107 - 81s - loss: 3.9243e-04 - val_loss: 0.0062 - 81s/epoch - 759ms/step\n",
      "Epoch 7/200\n",
      "107/107 - 81s - loss: 2.5398e-04 - val_loss: 0.0045 - 81s/epoch - 756ms/step\n",
      "Epoch 8/200\n",
      "107/107 - 81s - loss: 1.4937e-04 - val_loss: 0.0030 - 81s/epoch - 756ms/step\n",
      "Epoch 9/200\n",
      "107/107 - 81s - loss: 8.0404e-05 - val_loss: 0.0021 - 81s/epoch - 759ms/step\n",
      "Epoch 10/200\n",
      "107/107 - 81s - loss: 4.1265e-05 - val_loss: 0.0015 - 81s/epoch - 756ms/step\n",
      "Epoch 11/200\n",
      "107/107 - 81s - loss: 2.2095e-05 - val_loss: 0.0011 - 81s/epoch - 757ms/step\n",
      "Epoch 12/200\n",
      "107/107 - 81s - loss: 1.3775e-05 - val_loss: 8.7218e-04 - 81s/epoch - 755ms/step\n",
      "Epoch 13/200\n",
      "107/107 - 80s - loss: 1.0182e-05 - val_loss: 7.5574e-04 - 80s/epoch - 750ms/step\n",
      "Epoch 14/200\n",
      "107/107 - 81s - loss: 8.4830e-06 - val_loss: 6.9695e-04 - 81s/epoch - 753ms/step\n",
      "Epoch 15/200\n",
      "107/107 - 85s - loss: 7.5844e-06 - val_loss: 6.6333e-04 - 85s/epoch - 792ms/step\n",
      "Epoch 16/200\n",
      "107/107 - 87s - loss: 7.0691e-06 - val_loss: 6.3214e-04 - 87s/epoch - 812ms/step\n",
      "Epoch 17/200\n",
      "107/107 - 86s - loss: 6.7404e-06 - val_loss: 6.3005e-04 - 86s/epoch - 806ms/step\n",
      "Epoch 18/200\n",
      "107/107 - 86s - loss: 6.5836e-06 - val_loss: 6.1928e-04 - 86s/epoch - 804ms/step\n",
      "Epoch 19/200\n",
      "107/107 - 86s - loss: 6.4796e-06 - val_loss: 6.1735e-04 - 86s/epoch - 804ms/step\n",
      "Epoch 20/200\n",
      "107/107 - 86s - loss: 6.3806e-06 - val_loss: 6.1219e-04 - 86s/epoch - 803ms/step\n",
      "Epoch 21/200\n",
      "107/107 - 86s - loss: 6.3882e-06 - val_loss: 5.9904e-04 - 86s/epoch - 801ms/step\n",
      "Epoch 22/200\n",
      "107/107 - 86s - loss: 6.3949e-06 - val_loss: 6.2324e-04 - 86s/epoch - 802ms/step\n",
      "Epoch 23/200\n",
      "107/107 - 86s - loss: 6.4326e-06 - val_loss: 6.0647e-04 - 86s/epoch - 802ms/step\n",
      "Epoch 24/200\n",
      "107/107 - 86s - loss: 6.3609e-06 - val_loss: 6.1643e-04 - 86s/epoch - 800ms/step\n",
      "Epoch 25/200\n",
      "107/107 - 86s - loss: 6.3522e-06 - val_loss: 5.8872e-04 - 86s/epoch - 800ms/step\n",
      "Epoch 26/200\n",
      "107/107 - 86s - loss: 6.4274e-06 - val_loss: 5.9014e-04 - 86s/epoch - 803ms/step\n",
      "Epoch 27/200\n",
      "107/107 - 86s - loss: 6.3900e-06 - val_loss: 5.9790e-04 - 86s/epoch - 803ms/step\n",
      "Epoch 28/200\n",
      "107/107 - 86s - loss: 6.2945e-06 - val_loss: 5.8140e-04 - 86s/epoch - 800ms/step\n",
      "Epoch 29/200\n",
      "107/107 - 86s - loss: 6.4884e-06 - val_loss: 5.8201e-04 - 86s/epoch - 800ms/step\n",
      "Epoch 30/200\n",
      "107/107 - 86s - loss: 6.3875e-06 - val_loss: 5.4554e-04 - 86s/epoch - 802ms/step\n",
      "Epoch 31/200\n",
      "107/107 - 86s - loss: 6.3714e-06 - val_loss: 5.9881e-04 - 86s/epoch - 800ms/step\n",
      "Epoch 32/200\n",
      "107/107 - 86s - loss: 6.3508e-06 - val_loss: 5.9328e-04 - 86s/epoch - 800ms/step\n",
      "Epoch 33/200\n",
      "107/107 - 86s - loss: 6.2670e-06 - val_loss: 5.9402e-04 - 86s/epoch - 801ms/step\n",
      "Epoch 34/200\n",
      "107/107 - 86s - loss: 6.3397e-06 - val_loss: 5.7471e-04 - 86s/epoch - 801ms/step\n",
      "Epoch 35/200\n",
      "107/107 - 86s - loss: 6.2300e-06 - val_loss: 5.5035e-04 - 86s/epoch - 800ms/step\n",
      "Epoch 36/200\n",
      "107/107 - 86s - loss: 6.2996e-06 - val_loss: 5.5622e-04 - 86s/epoch - 799ms/step\n",
      "Epoch 37/200\n",
      "107/107 - 85s - loss: 6.5715e-06 - val_loss: 5.9047e-04 - 85s/epoch - 798ms/step\n",
      "Epoch 38/200\n",
      "107/107 - 85s - loss: 6.6239e-06 - val_loss: 5.4906e-04 - 85s/epoch - 798ms/step\n",
      "Epoch 39/200\n",
      "107/107 - 86s - loss: 6.8659e-06 - val_loss: 5.8718e-04 - 86s/epoch - 800ms/step\n",
      "Epoch 40/200\n",
      "107/107 - 86s - loss: 6.9987e-06 - val_loss: 5.1120e-04 - 86s/epoch - 801ms/step\n",
      "Epoch 41/200\n",
      "107/107 - 86s - loss: 6.5575e-06 - val_loss: 5.4231e-04 - 86s/epoch - 801ms/step\n",
      "Epoch 42/200\n",
      "107/107 - 86s - loss: 7.3816e-06 - val_loss: 5.6932e-04 - 86s/epoch - 802ms/step\n",
      "Epoch 43/200\n",
      "107/107 - 86s - loss: 6.5273e-06 - val_loss: 5.2955e-04 - 86s/epoch - 801ms/step\n",
      "Epoch 44/200\n",
      "107/107 - 86s - loss: 6.2941e-06 - val_loss: 5.3973e-04 - 86s/epoch - 799ms/step\n",
      "Epoch 45/200\n",
      "107/107 - 85s - loss: 6.6195e-06 - val_loss: 4.9134e-04 - 85s/epoch - 799ms/step\n",
      "Epoch 46/200\n",
      "107/107 - 85s - loss: 7.1204e-06 - val_loss: 5.0153e-04 - 85s/epoch - 798ms/step\n",
      "Epoch 47/200\n",
      "107/107 - 85s - loss: 6.5385e-06 - val_loss: 5.0377e-04 - 85s/epoch - 798ms/step\n",
      "Epoch 48/200\n",
      "107/107 - 86s - loss: 7.6481e-06 - val_loss: 4.7412e-04 - 86s/epoch - 799ms/step\n",
      "Epoch 49/200\n",
      "107/107 - 86s - loss: 8.3316e-06 - val_loss: 5.4501e-04 - 86s/epoch - 800ms/step\n",
      "Epoch 50/200\n",
      "107/107 - 86s - loss: 7.2284e-06 - val_loss: 5.1043e-04 - 86s/epoch - 800ms/step\n",
      "Epoch 51/200\n",
      "107/107 - 86s - loss: 9.3804e-06 - val_loss: 4.1627e-04 - 86s/epoch - 801ms/step\n",
      "Epoch 52/200\n",
      "107/107 - 86s - loss: 7.4055e-06 - val_loss: 4.5872e-04 - 86s/epoch - 801ms/step\n",
      "Epoch 53/200\n",
      "107/107 - 86s - loss: 7.9960e-06 - val_loss: 5.1055e-04 - 86s/epoch - 802ms/step\n",
      "Epoch 54/200\n",
      "107/107 - 86s - loss: 7.6421e-06 - val_loss: 3.7823e-04 - 86s/epoch - 802ms/step\n",
      "Epoch 55/200\n",
      "107/107 - 85s - loss: 7.4492e-06 - val_loss: 4.9752e-04 - 85s/epoch - 799ms/step\n",
      "Epoch 56/200\n",
      "107/107 - 86s - loss: 8.3782e-06 - val_loss: 4.0984e-04 - 86s/epoch - 800ms/step\n",
      "Epoch 57/200\n",
      "107/107 - 86s - loss: 7.3560e-06 - val_loss: 4.5574e-04 - 86s/epoch - 799ms/step\n",
      "Epoch 58/200\n",
      "107/107 - 85s - loss: 9.5996e-06 - val_loss: 5.6514e-04 - 85s/epoch - 799ms/step\n",
      "Epoch 59/200\n",
      "107/107 - 86s - loss: 9.9848e-06 - val_loss: 4.7583e-04 - 86s/epoch - 799ms/step\n",
      "Epoch 60/200\n",
      "107/107 - 85s - loss: 8.4356e-06 - val_loss: 4.3673e-04 - 85s/epoch - 797ms/step\n",
      "Epoch 61/200\n",
      "107/107 - 85s - loss: 8.6382e-06 - val_loss: 4.4058e-04 - 85s/epoch - 798ms/step\n",
      "Epoch 62/200\n",
      "107/107 - 85s - loss: 1.2208e-05 - val_loss: 3.8115e-04 - 85s/epoch - 798ms/step\n",
      "Epoch 63/200\n",
      "107/107 - 86s - loss: 8.0496e-06 - val_loss: 3.8372e-04 - 86s/epoch - 800ms/step\n",
      "Epoch 64/200\n",
      "107/107 - 86s - loss: 9.4984e-06 - val_loss: 3.6604e-04 - 86s/epoch - 803ms/step\n",
      "Epoch 65/200\n",
      "107/107 - 85s - loss: 9.0140e-06 - val_loss: 4.0912e-04 - 85s/epoch - 798ms/step\n",
      "Epoch 66/200\n",
      "107/107 - 86s - loss: 8.1903e-06 - val_loss: 4.3181e-04 - 86s/epoch - 801ms/step\n",
      "Epoch 67/200\n",
      "107/107 - 86s - loss: 8.9774e-06 - val_loss: 3.3901e-04 - 86s/epoch - 800ms/step\n",
      "Epoch 68/200\n",
      "107/107 - 86s - loss: 9.5974e-06 - val_loss: 3.2060e-04 - 86s/epoch - 800ms/step\n",
      "Epoch 69/200\n",
      "107/107 - 86s - loss: 9.1252e-06 - val_loss: 4.2480e-04 - 86s/epoch - 801ms/step\n",
      "Epoch 70/200\n",
      "107/107 - 86s - loss: 1.0228e-05 - val_loss: 4.6181e-04 - 86s/epoch - 800ms/step\n",
      "Epoch 71/200\n",
      "107/107 - 86s - loss: 8.4652e-06 - val_loss: 4.2261e-04 - 86s/epoch - 801ms/step\n",
      "Epoch 72/200\n",
      "107/107 - 86s - loss: 7.9602e-06 - val_loss: 4.0137e-04 - 86s/epoch - 800ms/step\n",
      "Epoch 73/200\n",
      "107/107 - 85s - loss: 8.5940e-06 - val_loss: 3.6898e-04 - 85s/epoch - 799ms/step\n",
      "Epoch 74/200\n",
      "107/107 - 86s - loss: 8.9088e-06 - val_loss: 3.5085e-04 - 86s/epoch - 800ms/step\n",
      "Epoch 75/200\n",
      "107/107 - 86s - loss: 1.0153e-05 - val_loss: 3.3660e-04 - 86s/epoch - 800ms/step\n",
      "Epoch 76/200\n",
      "107/107 - 86s - loss: 9.9249e-06 - val_loss: 4.4011e-04 - 86s/epoch - 800ms/step\n",
      "Epoch 77/200\n",
      "107/107 - 86s - loss: 1.0036e-05 - val_loss: 4.3019e-04 - 86s/epoch - 801ms/step\n",
      "Epoch 78/200\n",
      "107/107 - 86s - loss: 9.3660e-06 - val_loss: 3.9722e-04 - 86s/epoch - 800ms/step\n",
      "Epoch 79/200\n",
      "107/107 - 86s - loss: 6.1688e-06 - val_loss: 3.5084e-04 - 86s/epoch - 805ms/step\n",
      "Epoch 80/200\n",
      "107/107 - 87s - loss: 1.2403e-05 - val_loss: 3.0447e-04 - 87s/epoch - 809ms/step\n",
      "Epoch 81/200\n",
      "107/107 - 86s - loss: 7.7313e-06 - val_loss: 2.9567e-04 - 86s/epoch - 801ms/step\n",
      "Epoch 82/200\n",
      "107/107 - 86s - loss: 8.5361e-06 - val_loss: 3.2122e-04 - 86s/epoch - 802ms/step\n",
      "Epoch 83/200\n",
      "107/107 - 86s - loss: 7.9801e-06 - val_loss: 3.0667e-04 - 86s/epoch - 802ms/step\n",
      "Epoch 84/200\n",
      "107/107 - 86s - loss: 7.7632e-06 - val_loss: 2.7753e-04 - 86s/epoch - 803ms/step\n",
      "Epoch 85/200\n",
      "107/107 - 86s - loss: 1.1789e-05 - val_loss: 3.0906e-04 - 86s/epoch - 805ms/step\n",
      "Epoch 86/200\n",
      "107/107 - 86s - loss: 9.7586e-06 - val_loss: 2.9680e-04 - 86s/epoch - 806ms/step\n",
      "Epoch 87/200\n",
      "107/107 - 86s - loss: 7.7257e-06 - val_loss: 3.4627e-04 - 86s/epoch - 802ms/step\n",
      "Epoch 88/200\n",
      "107/107 - 86s - loss: 8.1268e-06 - val_loss: 2.9897e-04 - 86s/epoch - 807ms/step\n",
      "Epoch 89/200\n",
      "107/107 - 86s - loss: 9.5477e-06 - val_loss: 3.0261e-04 - 86s/epoch - 805ms/step\n",
      "Epoch 90/200\n",
      "107/107 - 86s - loss: 8.2215e-06 - val_loss: 3.6286e-04 - 86s/epoch - 808ms/step\n",
      "Epoch 91/200\n",
      "107/107 - 86s - loss: 8.1808e-06 - val_loss: 2.5025e-04 - 86s/epoch - 806ms/step\n",
      "Epoch 92/200\n",
      "107/107 - 86s - loss: 8.5166e-06 - val_loss: 2.6397e-04 - 86s/epoch - 805ms/step\n",
      "Epoch 93/200\n",
      "107/107 - 87s - loss: 8.0454e-06 - val_loss: 2.2249e-04 - 87s/epoch - 810ms/step\n",
      "Epoch 94/200\n",
      "107/107 - 86s - loss: 9.9352e-06 - val_loss: 2.6014e-04 - 86s/epoch - 805ms/step\n",
      "Epoch 95/200\n",
      "107/107 - 86s - loss: 8.7503e-06 - val_loss: 3.4868e-04 - 86s/epoch - 804ms/step\n",
      "Epoch 96/200\n",
      "107/107 - 86s - loss: 8.3636e-06 - val_loss: 2.6170e-04 - 86s/epoch - 807ms/step\n",
      "Epoch 97/200\n",
      "107/107 - 87s - loss: 8.5980e-06 - val_loss: 2.6232e-04 - 87s/epoch - 810ms/step\n",
      "Epoch 98/200\n",
      "107/107 - 87s - loss: 9.1557e-06 - val_loss: 3.1940e-04 - 87s/epoch - 810ms/step\n",
      "Epoch 99/200\n",
      "107/107 - 87s - loss: 9.2376e-06 - val_loss: 2.6373e-04 - 87s/epoch - 809ms/step\n",
      "Epoch 100/200\n",
      "107/107 - 87s - loss: 8.7111e-06 - val_loss: 2.4503e-04 - 87s/epoch - 810ms/step\n",
      "Epoch 101/200\n",
      "107/107 - 86s - loss: 8.0119e-06 - val_loss: 2.3234e-04 - 86s/epoch - 805ms/step\n",
      "Epoch 102/200\n",
      "107/107 - 86s - loss: 7.1660e-06 - val_loss: 2.3010e-04 - 86s/epoch - 805ms/step\n",
      "Epoch 103/200\n",
      "107/107 - 86s - loss: 8.4938e-06 - val_loss: 2.0903e-04 - 86s/epoch - 803ms/step\n",
      "Epoch 104/200\n",
      "107/107 - 86s - loss: 9.3283e-06 - val_loss: 2.5425e-04 - 86s/epoch - 804ms/step\n",
      "Epoch 105/200\n",
      "107/107 - 86s - loss: 7.1727e-06 - val_loss: 2.8826e-04 - 86s/epoch - 807ms/step\n",
      "Epoch 106/200\n",
      "107/107 - 87s - loss: 8.2168e-06 - val_loss: 2.7873e-04 - 87s/epoch - 809ms/step\n",
      "Epoch 107/200\n",
      "107/107 - 86s - loss: 7.8971e-06 - val_loss: 2.4454e-04 - 86s/epoch - 804ms/step\n",
      "Epoch 108/200\n",
      "107/107 - 86s - loss: 1.1284e-05 - val_loss: 2.2067e-04 - 86s/epoch - 806ms/step\n",
      "Epoch 109/200\n",
      "107/107 - 86s - loss: 6.2294e-06 - val_loss: 2.0814e-04 - 86s/epoch - 806ms/step\n",
      "Epoch 110/200\n",
      "107/107 - 86s - loss: 8.6624e-06 - val_loss: 2.3987e-04 - 86s/epoch - 808ms/step\n",
      "Epoch 111/200\n",
      "107/107 - 86s - loss: 7.7722e-06 - val_loss: 1.8479e-04 - 86s/epoch - 808ms/step\n",
      "Epoch 112/200\n",
      "107/107 - 86s - loss: 6.1244e-06 - val_loss: 2.5764e-04 - 86s/epoch - 807ms/step\n",
      "Epoch 113/200\n",
      "107/107 - 86s - loss: 9.0970e-06 - val_loss: 1.9646e-04 - 86s/epoch - 805ms/step\n",
      "Epoch 114/200\n",
      "107/107 - 86s - loss: 7.7847e-06 - val_loss: 1.7954e-04 - 86s/epoch - 805ms/step\n",
      "Epoch 115/200\n",
      "107/107 - 86s - loss: 8.1096e-06 - val_loss: 2.8319e-04 - 86s/epoch - 807ms/step\n",
      "Epoch 116/200\n",
      "107/107 - 87s - loss: 1.0535e-05 - val_loss: 1.9260e-04 - 87s/epoch - 808ms/step\n",
      "Epoch 117/200\n",
      "107/107 - 86s - loss: 7.0139e-06 - val_loss: 1.8099e-04 - 86s/epoch - 804ms/step\n",
      "Epoch 118/200\n",
      "107/107 - 86s - loss: 7.4015e-06 - val_loss: 1.4535e-04 - 86s/epoch - 804ms/step\n",
      "Epoch 119/200\n",
      "107/107 - 86s - loss: 1.0101e-05 - val_loss: 1.6644e-04 - 86s/epoch - 805ms/step\n",
      "Epoch 120/200\n",
      "107/107 - 86s - loss: 6.5535e-06 - val_loss: 1.6538e-04 - 86s/epoch - 807ms/step\n",
      "Epoch 121/200\n",
      "107/107 - 86s - loss: 6.8101e-06 - val_loss: 1.4605e-04 - 86s/epoch - 805ms/step\n",
      "Epoch 122/200\n",
      "107/107 - 86s - loss: 7.2813e-06 - val_loss: 1.9881e-04 - 86s/epoch - 804ms/step\n",
      "Epoch 123/200\n",
      "107/107 - 86s - loss: 8.2941e-06 - val_loss: 1.5724e-04 - 86s/epoch - 805ms/step\n",
      "Epoch 124/200\n",
      "107/107 - 86s - loss: 6.5883e-06 - val_loss: 1.6408e-04 - 86s/epoch - 807ms/step\n",
      "Epoch 125/200\n",
      "107/107 - 86s - loss: 6.9477e-06 - val_loss: 2.0951e-04 - 86s/epoch - 804ms/step\n",
      "Epoch 126/200\n",
      "107/107 - 86s - loss: 7.7016e-06 - val_loss: 2.1235e-04 - 86s/epoch - 804ms/step\n",
      "Epoch 127/200\n",
      "107/107 - 86s - loss: 7.8508e-06 - val_loss: 1.3817e-04 - 86s/epoch - 804ms/step\n",
      "Epoch 128/200\n",
      "107/107 - 86s - loss: 9.3296e-06 - val_loss: 1.7196e-04 - 86s/epoch - 802ms/step\n",
      "Epoch 129/200\n",
      "107/107 - 87s - loss: 6.6151e-06 - val_loss: 1.3825e-04 - 87s/epoch - 809ms/step\n",
      "Epoch 130/200\n",
      "107/107 - 86s - loss: 8.8417e-06 - val_loss: 2.3862e-04 - 86s/epoch - 806ms/step\n",
      "Epoch 131/200\n",
      "107/107 - 87s - loss: 7.3669e-06 - val_loss: 1.7731e-04 - 87s/epoch - 810ms/step\n",
      "Epoch 132/200\n",
      "107/107 - 86s - loss: 6.7085e-06 - val_loss: 1.7637e-04 - 86s/epoch - 807ms/step\n",
      "Epoch 133/200\n",
      "107/107 - 87s - loss: 6.9885e-06 - val_loss: 1.7280e-04 - 87s/epoch - 810ms/step\n",
      "Epoch 134/200\n",
      "107/107 - 87s - loss: 8.0268e-06 - val_loss: 1.6353e-04 - 87s/epoch - 811ms/step\n",
      "Epoch 135/200\n",
      "107/107 - 86s - loss: 7.0136e-06 - val_loss: 1.9296e-04 - 86s/epoch - 807ms/step\n",
      "Epoch 136/200\n",
      "107/107 - 87s - loss: 1.0754e-05 - val_loss: 1.4371e-04 - 87s/epoch - 810ms/step\n",
      "Epoch 137/200\n",
      "107/107 - 87s - loss: 6.8844e-06 - val_loss: 1.7194e-04 - 87s/epoch - 812ms/step\n",
      "Epoch 138/200\n",
      "107/107 - 87s - loss: 6.0350e-06 - val_loss: 1.8480e-04 - 87s/epoch - 810ms/step\n",
      "Epoch 139/200\n",
      "107/107 - 87s - loss: 7.9423e-06 - val_loss: 2.1128e-04 - 87s/epoch - 808ms/step\n",
      "Epoch 140/200\n",
      "107/107 - 87s - loss: 6.8955e-06 - val_loss: 1.5230e-04 - 87s/epoch - 810ms/step\n",
      "Epoch 141/200\n",
      "107/107 - 87s - loss: 6.2928e-06 - val_loss: 1.5942e-04 - 87s/epoch - 811ms/step\n",
      "Epoch 142/200\n",
      "107/107 - 86s - loss: 6.3264e-06 - val_loss: 1.2617e-04 - 86s/epoch - 808ms/step\n",
      "Epoch 143/200\n",
      "107/107 - 86s - loss: 7.4145e-06 - val_loss: 1.1132e-04 - 86s/epoch - 808ms/step\n",
      "Epoch 144/200\n",
      "107/107 - 87s - loss: 7.6196e-06 - val_loss: 1.1803e-04 - 87s/epoch - 808ms/step\n",
      "Epoch 145/200\n",
      "107/107 - 87s - loss: 7.8667e-06 - val_loss: 1.1936e-04 - 87s/epoch - 809ms/step\n",
      "Epoch 146/200\n",
      "107/107 - 86s - loss: 5.5880e-06 - val_loss: 1.2939e-04 - 86s/epoch - 807ms/step\n",
      "Epoch 147/200\n",
      "107/107 - 86s - loss: 8.3601e-06 - val_loss: 1.1905e-04 - 86s/epoch - 807ms/step\n",
      "Epoch 148/200\n",
      "107/107 - 86s - loss: 7.8252e-06 - val_loss: 1.8273e-04 - 86s/epoch - 808ms/step\n",
      "Epoch 149/200\n",
      "107/107 - 87s - loss: 6.7153e-06 - val_loss: 1.1611e-04 - 87s/epoch - 810ms/step\n",
      "Epoch 150/200\n",
      "107/107 - 86s - loss: 7.2895e-06 - val_loss: 1.2715e-04 - 86s/epoch - 804ms/step\n",
      "Epoch 151/200\n",
      "107/107 - 86s - loss: 6.5708e-06 - val_loss: 1.1245e-04 - 86s/epoch - 804ms/step\n",
      "Epoch 152/200\n",
      "107/107 - 87s - loss: 6.7123e-06 - val_loss: 1.0237e-04 - 87s/epoch - 809ms/step\n",
      "Epoch 153/200\n",
      "107/107 - 86s - loss: 6.8334e-06 - val_loss: 1.2299e-04 - 86s/epoch - 807ms/step\n",
      "Epoch 154/200\n",
      "107/107 - 86s - loss: 7.9189e-06 - val_loss: 9.1029e-05 - 86s/epoch - 808ms/step\n",
      "Epoch 155/200\n",
      "107/107 - 86s - loss: 6.3053e-06 - val_loss: 1.0279e-04 - 86s/epoch - 807ms/step\n",
      "Epoch 156/200\n",
      "107/107 - 87s - loss: 5.7790e-06 - val_loss: 9.6405e-05 - 87s/epoch - 810ms/step\n",
      "Epoch 157/200\n",
      "107/107 - 86s - loss: 6.1134e-06 - val_loss: 1.2670e-04 - 86s/epoch - 806ms/step\n",
      "Epoch 158/200\n",
      "107/107 - 86s - loss: 7.7796e-06 - val_loss: 1.2599e-04 - 86s/epoch - 807ms/step\n",
      "Epoch 159/200\n",
      "107/107 - 86s - loss: 7.3653e-06 - val_loss: 1.0553e-04 - 86s/epoch - 806ms/step\n",
      "Epoch 160/200\n",
      "107/107 - 86s - loss: 6.5909e-06 - val_loss: 9.0189e-05 - 86s/epoch - 807ms/step\n",
      "Epoch 161/200\n",
      "107/107 - 86s - loss: 6.4867e-06 - val_loss: 7.9379e-05 - 86s/epoch - 803ms/step\n",
      "Epoch 162/200\n",
      "107/107 - 86s - loss: 7.3268e-06 - val_loss: 7.0604e-05 - 86s/epoch - 805ms/step\n",
      "Epoch 163/200\n",
      "107/107 - 87s - loss: 7.2896e-06 - val_loss: 1.0590e-04 - 87s/epoch - 809ms/step\n",
      "Epoch 164/200\n",
      "107/107 - 87s - loss: 8.1566e-06 - val_loss: 1.0727e-04 - 87s/epoch - 817ms/step\n",
      "Epoch 165/200\n",
      "107/107 - 86s - loss: 6.1259e-06 - val_loss: 1.1298e-04 - 86s/epoch - 807ms/step\n",
      "Epoch 166/200\n",
      "107/107 - 86s - loss: 5.7108e-06 - val_loss: 8.1740e-05 - 86s/epoch - 808ms/step\n",
      "Epoch 167/200\n",
      "107/107 - 86s - loss: 7.3720e-06 - val_loss: 9.9094e-05 - 86s/epoch - 807ms/step\n",
      "Epoch 168/200\n",
      "107/107 - 86s - loss: 7.6110e-06 - val_loss: 8.9871e-05 - 86s/epoch - 807ms/step\n",
      "Epoch 169/200\n",
      "107/107 - 86s - loss: 5.1445e-06 - val_loss: 1.0498e-04 - 86s/epoch - 806ms/step\n",
      "Epoch 170/200\n",
      "107/107 - 86s - loss: 8.4493e-06 - val_loss: 9.9170e-05 - 86s/epoch - 805ms/step\n",
      "Epoch 171/200\n",
      "107/107 - 86s - loss: 7.2573e-06 - val_loss: 8.0404e-05 - 86s/epoch - 807ms/step\n",
      "Epoch 172/200\n",
      "107/107 - 86s - loss: 5.3541e-06 - val_loss: 1.1336e-04 - 86s/epoch - 806ms/step\n",
      "Epoch 173/200\n",
      "107/107 - 86s - loss: 6.1076e-06 - val_loss: 1.1132e-04 - 86s/epoch - 805ms/step\n",
      "Epoch 174/200\n",
      "107/107 - 86s - loss: 5.6746e-06 - val_loss: 7.8256e-05 - 86s/epoch - 805ms/step\n",
      "Epoch 175/200\n",
      "107/107 - 86s - loss: 1.0066e-05 - val_loss: 7.5668e-05 - 86s/epoch - 805ms/step\n",
      "Epoch 176/200\n",
      "107/107 - 87s - loss: 5.4909e-06 - val_loss: 7.6126e-05 - 87s/epoch - 809ms/step\n",
      "Epoch 177/200\n",
      "107/107 - 86s - loss: 4.9500e-06 - val_loss: 8.4883e-05 - 86s/epoch - 805ms/step\n",
      "Epoch 178/200\n",
      "107/107 - 86s - loss: 6.5964e-06 - val_loss: 7.3288e-05 - 86s/epoch - 804ms/step\n",
      "Epoch 179/200\n",
      "107/107 - 86s - loss: 7.3740e-06 - val_loss: 8.4969e-05 - 86s/epoch - 804ms/step\n",
      "Epoch 180/200\n",
      "107/107 - 87s - loss: 5.1785e-06 - val_loss: 6.5793e-05 - 87s/epoch - 808ms/step\n",
      "Epoch 181/200\n",
      "107/107 - 86s - loss: 6.8740e-06 - val_loss: 5.8536e-05 - 86s/epoch - 804ms/step\n",
      "Epoch 182/200\n",
      "107/107 - 86s - loss: 6.5031e-06 - val_loss: 5.8037e-05 - 86s/epoch - 803ms/step\n",
      "Epoch 183/200\n",
      "107/107 - 86s - loss: 6.1817e-06 - val_loss: 6.3126e-05 - 86s/epoch - 805ms/step\n",
      "Epoch 184/200\n",
      "107/107 - 86s - loss: 4.7557e-06 - val_loss: 1.0248e-04 - 86s/epoch - 805ms/step\n",
      "Epoch 185/200\n",
      "107/107 - 86s - loss: 6.2788e-06 - val_loss: 9.0556e-05 - 86s/epoch - 804ms/step\n",
      "Epoch 186/200\n",
      "107/107 - 86s - loss: 6.7810e-06 - val_loss: 7.0015e-05 - 86s/epoch - 804ms/step\n",
      "Epoch 187/200\n",
      "107/107 - 86s - loss: 6.1061e-06 - val_loss: 6.2918e-05 - 86s/epoch - 803ms/step\n",
      "Epoch 188/200\n",
      "107/107 - 86s - loss: 7.3242e-06 - val_loss: 1.3335e-04 - 86s/epoch - 804ms/step\n",
      "Epoch 189/200\n",
      "107/107 - 86s - loss: 8.7782e-06 - val_loss: 5.9659e-05 - 86s/epoch - 805ms/step\n",
      "Epoch 190/200\n",
      "107/107 - 86s - loss: 4.7407e-06 - val_loss: 7.9894e-05 - 86s/epoch - 808ms/step\n",
      "Epoch 191/200\n",
      "107/107 - 86s - loss: 6.2418e-06 - val_loss: 5.3779e-05 - 86s/epoch - 808ms/step\n",
      "Epoch 192/200\n",
      "107/107 - 87s - loss: 4.9504e-06 - val_loss: 7.1332e-05 - 87s/epoch - 810ms/step\n",
      "Epoch 193/200\n",
      "107/107 - 86s - loss: 7.2495e-06 - val_loss: 7.5726e-05 - 86s/epoch - 807ms/step\n",
      "Epoch 194/200\n",
      "107/107 - 86s - loss: 5.7359e-06 - val_loss: 5.7955e-05 - 86s/epoch - 807ms/step\n",
      "Epoch 195/200\n",
      "107/107 - 86s - loss: 5.9943e-06 - val_loss: 7.1103e-05 - 86s/epoch - 802ms/step\n",
      "Epoch 196/200\n",
      "107/107 - 86s - loss: 5.4673e-06 - val_loss: 6.7135e-05 - 86s/epoch - 805ms/step\n",
      "Epoch 197/200\n",
      "107/107 - 86s - loss: 1.0276e-05 - val_loss: 5.1717e-05 - 86s/epoch - 807ms/step\n",
      "Epoch 198/200\n",
      "107/107 - 86s - loss: 4.7960e-06 - val_loss: 4.9306e-05 - 86s/epoch - 808ms/step\n",
      "Epoch 199/200\n",
      "107/107 - 87s - loss: 6.9206e-06 - val_loss: 8.0845e-05 - 87s/epoch - 808ms/step\n",
      "Epoch 200/200\n",
      "107/107 - 87s - loss: 5.2964e-06 - val_loss: 4.9117e-05 - 87s/epoch - 810ms/step\n"
     ]
    }
   ],
   "source": [
    "# Set model to train\n",
    "\n",
    "earlystop_cb = EarlyStopping(monitor=\"val_loss\", patience=3)    # Implementing early stopping so if the model training ends early, keras will automatically stops fitting the model for further epochs\n",
    "\n",
    "history = model.fit(\n",
    "    train_x, \n",
    "    train_y, \n",
    "    epochs=N_EPOCHS, \n",
    "    batch_size=BATCH_SIZE, \n",
    "    verbose=2,\n",
    "    validation_data=(val_x, val_y),\n",
    ")"
   ]
  },
  {
   "attachments": {},
   "cell_type": "markdown",
   "metadata": {},
   "source": [
    "# Evaluating Model Performance \n",
    "\n",
    "We can now test the model performance on validation data (never seen before data). First, I'll draw the candlestick chart for model predictions, then I'll "
   ]
  },
  {
   "cell_type": "code",
   "execution_count": 53,
   "metadata": {},
   "outputs": [
    {
     "name": "stdout",
     "output_type": "stream",
     "text": [
      "1/1 [==============================] - 0s 18ms/step\n"
     ]
    }
   ],
   "source": [
    "test_idx = 1\n",
    "\n",
    "# Get model prediction \n",
    "test_x = val_x[test_idx].reshape(-1, 25, 4)\n",
    "prediction = model.predict(test_x)\n",
    "\n",
    "# Reshape model prediction such that it can be used for candlestick charts\n",
    "prediction = prediction.reshape(-1, LOOK_FORWARD, N_FEATURES)\n",
    "\n",
    "# Join previous timesteps with new future timesteps\n",
    "final_prediction = np.concatenate((test_x, prediction), axis=1)[0]"
   ]
  },
  {
   "cell_type": "code",
   "execution_count": 54,
   "metadata": {},
   "outputs": [
    {
     "data": {
      "application/vnd.plotly.v1+json": {
       "config": {
        "plotlyServerURL": "https://plot.ly"
       },
       "data": [
        {
         "close": [
          1.1915,
          1.19075,
          1.19245,
          1.192,
          1.19145,
          1.192,
          1.1919,
          1.19215,
          1.19315,
          1.1937,
          1.1922,
          1.19305,
          1.19345,
          1.19335,
          1.1931,
          1.19275,
          1.1931,
          1.1928,
          1.19305,
          1.1935,
          1.19365,
          1.19345,
          1.19405,
          1.19425,
          1.19405,
          1.1940534114837646,
          1.193258285522461,
          1.1936583518981934
         ],
         "high": [
          1.19185,
          1.1918,
          1.19375,
          1.193,
          1.1927,
          1.1944,
          1.19245,
          1.1928,
          1.1932,
          1.1949,
          1.19425,
          1.19305,
          1.1939,
          1.1936,
          1.1937,
          1.19315,
          1.1931,
          1.1934,
          1.19305,
          1.19355,
          1.19365,
          1.19365,
          1.19425,
          1.1944,
          1.19435,
          1.1942567825317383,
          1.1949154138565063,
          1.193924903869629
         ],
         "low": [
          1.1892,
          1.1907,
          1.1907,
          1.1918,
          1.19115,
          1.19145,
          1.19155,
          1.1917,
          1.1917,
          1.19325,
          1.1922,
          1.1918,
          1.193,
          1.1932,
          1.1931,
          1.1923,
          1.19245,
          1.1928,
          1.19275,
          1.19305,
          1.1929,
          1.1934,
          1.19355,
          1.19395,
          1.19405,
          1.1938772201538086,
          1.1935573816299438,
          1.193712830543518
         ],
         "open": [
          1.1896,
          1.19155,
          1.1907,
          1.1923,
          1.19195,
          1.19145,
          1.19205,
          1.1919,
          1.19225,
          1.19325,
          1.19375,
          1.19225,
          1.193,
          1.1934,
          1.19325,
          1.1931,
          1.19275,
          1.1932,
          1.1928,
          1.1931,
          1.19365,
          1.1935,
          1.19365,
          1.19415,
          1.19435,
          1.1939555406570435,
          1.1937590837478638,
          1.1937304735183716
         ],
         "type": "candlestick"
        }
       ],
       "layout": {
        "template": {
         "data": {
          "bar": [
           {
            "error_x": {
             "color": "#2a3f5f"
            },
            "error_y": {
             "color": "#2a3f5f"
            },
            "marker": {
             "line": {
              "color": "#E5ECF6",
              "width": 0.5
             },
             "pattern": {
              "fillmode": "overlay",
              "size": 10,
              "solidity": 0.2
             }
            },
            "type": "bar"
           }
          ],
          "barpolar": [
           {
            "marker": {
             "line": {
              "color": "#E5ECF6",
              "width": 0.5
             },
             "pattern": {
              "fillmode": "overlay",
              "size": 10,
              "solidity": 0.2
             }
            },
            "type": "barpolar"
           }
          ],
          "carpet": [
           {
            "aaxis": {
             "endlinecolor": "#2a3f5f",
             "gridcolor": "white",
             "linecolor": "white",
             "minorgridcolor": "white",
             "startlinecolor": "#2a3f5f"
            },
            "baxis": {
             "endlinecolor": "#2a3f5f",
             "gridcolor": "white",
             "linecolor": "white",
             "minorgridcolor": "white",
             "startlinecolor": "#2a3f5f"
            },
            "type": "carpet"
           }
          ],
          "choropleth": [
           {
            "colorbar": {
             "outlinewidth": 0,
             "ticks": ""
            },
            "type": "choropleth"
           }
          ],
          "contour": [
           {
            "colorbar": {
             "outlinewidth": 0,
             "ticks": ""
            },
            "colorscale": [
             [
              0,
              "#0d0887"
             ],
             [
              0.1111111111111111,
              "#46039f"
             ],
             [
              0.2222222222222222,
              "#7201a8"
             ],
             [
              0.3333333333333333,
              "#9c179e"
             ],
             [
              0.4444444444444444,
              "#bd3786"
             ],
             [
              0.5555555555555556,
              "#d8576b"
             ],
             [
              0.6666666666666666,
              "#ed7953"
             ],
             [
              0.7777777777777778,
              "#fb9f3a"
             ],
             [
              0.8888888888888888,
              "#fdca26"
             ],
             [
              1,
              "#f0f921"
             ]
            ],
            "type": "contour"
           }
          ],
          "contourcarpet": [
           {
            "colorbar": {
             "outlinewidth": 0,
             "ticks": ""
            },
            "type": "contourcarpet"
           }
          ],
          "heatmap": [
           {
            "colorbar": {
             "outlinewidth": 0,
             "ticks": ""
            },
            "colorscale": [
             [
              0,
              "#0d0887"
             ],
             [
              0.1111111111111111,
              "#46039f"
             ],
             [
              0.2222222222222222,
              "#7201a8"
             ],
             [
              0.3333333333333333,
              "#9c179e"
             ],
             [
              0.4444444444444444,
              "#bd3786"
             ],
             [
              0.5555555555555556,
              "#d8576b"
             ],
             [
              0.6666666666666666,
              "#ed7953"
             ],
             [
              0.7777777777777778,
              "#fb9f3a"
             ],
             [
              0.8888888888888888,
              "#fdca26"
             ],
             [
              1,
              "#f0f921"
             ]
            ],
            "type": "heatmap"
           }
          ],
          "heatmapgl": [
           {
            "colorbar": {
             "outlinewidth": 0,
             "ticks": ""
            },
            "colorscale": [
             [
              0,
              "#0d0887"
             ],
             [
              0.1111111111111111,
              "#46039f"
             ],
             [
              0.2222222222222222,
              "#7201a8"
             ],
             [
              0.3333333333333333,
              "#9c179e"
             ],
             [
              0.4444444444444444,
              "#bd3786"
             ],
             [
              0.5555555555555556,
              "#d8576b"
             ],
             [
              0.6666666666666666,
              "#ed7953"
             ],
             [
              0.7777777777777778,
              "#fb9f3a"
             ],
             [
              0.8888888888888888,
              "#fdca26"
             ],
             [
              1,
              "#f0f921"
             ]
            ],
            "type": "heatmapgl"
           }
          ],
          "histogram": [
           {
            "marker": {
             "pattern": {
              "fillmode": "overlay",
              "size": 10,
              "solidity": 0.2
             }
            },
            "type": "histogram"
           }
          ],
          "histogram2d": [
           {
            "colorbar": {
             "outlinewidth": 0,
             "ticks": ""
            },
            "colorscale": [
             [
              0,
              "#0d0887"
             ],
             [
              0.1111111111111111,
              "#46039f"
             ],
             [
              0.2222222222222222,
              "#7201a8"
             ],
             [
              0.3333333333333333,
              "#9c179e"
             ],
             [
              0.4444444444444444,
              "#bd3786"
             ],
             [
              0.5555555555555556,
              "#d8576b"
             ],
             [
              0.6666666666666666,
              "#ed7953"
             ],
             [
              0.7777777777777778,
              "#fb9f3a"
             ],
             [
              0.8888888888888888,
              "#fdca26"
             ],
             [
              1,
              "#f0f921"
             ]
            ],
            "type": "histogram2d"
           }
          ],
          "histogram2dcontour": [
           {
            "colorbar": {
             "outlinewidth": 0,
             "ticks": ""
            },
            "colorscale": [
             [
              0,
              "#0d0887"
             ],
             [
              0.1111111111111111,
              "#46039f"
             ],
             [
              0.2222222222222222,
              "#7201a8"
             ],
             [
              0.3333333333333333,
              "#9c179e"
             ],
             [
              0.4444444444444444,
              "#bd3786"
             ],
             [
              0.5555555555555556,
              "#d8576b"
             ],
             [
              0.6666666666666666,
              "#ed7953"
             ],
             [
              0.7777777777777778,
              "#fb9f3a"
             ],
             [
              0.8888888888888888,
              "#fdca26"
             ],
             [
              1,
              "#f0f921"
             ]
            ],
            "type": "histogram2dcontour"
           }
          ],
          "mesh3d": [
           {
            "colorbar": {
             "outlinewidth": 0,
             "ticks": ""
            },
            "type": "mesh3d"
           }
          ],
          "parcoords": [
           {
            "line": {
             "colorbar": {
              "outlinewidth": 0,
              "ticks": ""
             }
            },
            "type": "parcoords"
           }
          ],
          "pie": [
           {
            "automargin": true,
            "type": "pie"
           }
          ],
          "scatter": [
           {
            "fillpattern": {
             "fillmode": "overlay",
             "size": 10,
             "solidity": 0.2
            },
            "type": "scatter"
           }
          ],
          "scatter3d": [
           {
            "line": {
             "colorbar": {
              "outlinewidth": 0,
              "ticks": ""
             }
            },
            "marker": {
             "colorbar": {
              "outlinewidth": 0,
              "ticks": ""
             }
            },
            "type": "scatter3d"
           }
          ],
          "scattercarpet": [
           {
            "marker": {
             "colorbar": {
              "outlinewidth": 0,
              "ticks": ""
             }
            },
            "type": "scattercarpet"
           }
          ],
          "scattergeo": [
           {
            "marker": {
             "colorbar": {
              "outlinewidth": 0,
              "ticks": ""
             }
            },
            "type": "scattergeo"
           }
          ],
          "scattergl": [
           {
            "marker": {
             "colorbar": {
              "outlinewidth": 0,
              "ticks": ""
             }
            },
            "type": "scattergl"
           }
          ],
          "scattermapbox": [
           {
            "marker": {
             "colorbar": {
              "outlinewidth": 0,
              "ticks": ""
             }
            },
            "type": "scattermapbox"
           }
          ],
          "scatterpolar": [
           {
            "marker": {
             "colorbar": {
              "outlinewidth": 0,
              "ticks": ""
             }
            },
            "type": "scatterpolar"
           }
          ],
          "scatterpolargl": [
           {
            "marker": {
             "colorbar": {
              "outlinewidth": 0,
              "ticks": ""
             }
            },
            "type": "scatterpolargl"
           }
          ],
          "scatterternary": [
           {
            "marker": {
             "colorbar": {
              "outlinewidth": 0,
              "ticks": ""
             }
            },
            "type": "scatterternary"
           }
          ],
          "surface": [
           {
            "colorbar": {
             "outlinewidth": 0,
             "ticks": ""
            },
            "colorscale": [
             [
              0,
              "#0d0887"
             ],
             [
              0.1111111111111111,
              "#46039f"
             ],
             [
              0.2222222222222222,
              "#7201a8"
             ],
             [
              0.3333333333333333,
              "#9c179e"
             ],
             [
              0.4444444444444444,
              "#bd3786"
             ],
             [
              0.5555555555555556,
              "#d8576b"
             ],
             [
              0.6666666666666666,
              "#ed7953"
             ],
             [
              0.7777777777777778,
              "#fb9f3a"
             ],
             [
              0.8888888888888888,
              "#fdca26"
             ],
             [
              1,
              "#f0f921"
             ]
            ],
            "type": "surface"
           }
          ],
          "table": [
           {
            "cells": {
             "fill": {
              "color": "#EBF0F8"
             },
             "line": {
              "color": "white"
             }
            },
            "header": {
             "fill": {
              "color": "#C8D4E3"
             },
             "line": {
              "color": "white"
             }
            },
            "type": "table"
           }
          ]
         },
         "layout": {
          "annotationdefaults": {
           "arrowcolor": "#2a3f5f",
           "arrowhead": 0,
           "arrowwidth": 1
          },
          "autotypenumbers": "strict",
          "coloraxis": {
           "colorbar": {
            "outlinewidth": 0,
            "ticks": ""
           }
          },
          "colorscale": {
           "diverging": [
            [
             0,
             "#8e0152"
            ],
            [
             0.1,
             "#c51b7d"
            ],
            [
             0.2,
             "#de77ae"
            ],
            [
             0.3,
             "#f1b6da"
            ],
            [
             0.4,
             "#fde0ef"
            ],
            [
             0.5,
             "#f7f7f7"
            ],
            [
             0.6,
             "#e6f5d0"
            ],
            [
             0.7,
             "#b8e186"
            ],
            [
             0.8,
             "#7fbc41"
            ],
            [
             0.9,
             "#4d9221"
            ],
            [
             1,
             "#276419"
            ]
           ],
           "sequential": [
            [
             0,
             "#0d0887"
            ],
            [
             0.1111111111111111,
             "#46039f"
            ],
            [
             0.2222222222222222,
             "#7201a8"
            ],
            [
             0.3333333333333333,
             "#9c179e"
            ],
            [
             0.4444444444444444,
             "#bd3786"
            ],
            [
             0.5555555555555556,
             "#d8576b"
            ],
            [
             0.6666666666666666,
             "#ed7953"
            ],
            [
             0.7777777777777778,
             "#fb9f3a"
            ],
            [
             0.8888888888888888,
             "#fdca26"
            ],
            [
             1,
             "#f0f921"
            ]
           ],
           "sequentialminus": [
            [
             0,
             "#0d0887"
            ],
            [
             0.1111111111111111,
             "#46039f"
            ],
            [
             0.2222222222222222,
             "#7201a8"
            ],
            [
             0.3333333333333333,
             "#9c179e"
            ],
            [
             0.4444444444444444,
             "#bd3786"
            ],
            [
             0.5555555555555556,
             "#d8576b"
            ],
            [
             0.6666666666666666,
             "#ed7953"
            ],
            [
             0.7777777777777778,
             "#fb9f3a"
            ],
            [
             0.8888888888888888,
             "#fdca26"
            ],
            [
             1,
             "#f0f921"
            ]
           ]
          },
          "colorway": [
           "#636efa",
           "#EF553B",
           "#00cc96",
           "#ab63fa",
           "#FFA15A",
           "#19d3f3",
           "#FF6692",
           "#B6E880",
           "#FF97FF",
           "#FECB52"
          ],
          "font": {
           "color": "#2a3f5f"
          },
          "geo": {
           "bgcolor": "white",
           "lakecolor": "white",
           "landcolor": "#E5ECF6",
           "showlakes": true,
           "showland": true,
           "subunitcolor": "white"
          },
          "hoverlabel": {
           "align": "left"
          },
          "hovermode": "closest",
          "mapbox": {
           "style": "light"
          },
          "paper_bgcolor": "white",
          "plot_bgcolor": "#E5ECF6",
          "polar": {
           "angularaxis": {
            "gridcolor": "white",
            "linecolor": "white",
            "ticks": ""
           },
           "bgcolor": "#E5ECF6",
           "radialaxis": {
            "gridcolor": "white",
            "linecolor": "white",
            "ticks": ""
           }
          },
          "scene": {
           "xaxis": {
            "backgroundcolor": "#E5ECF6",
            "gridcolor": "white",
            "gridwidth": 2,
            "linecolor": "white",
            "showbackground": true,
            "ticks": "",
            "zerolinecolor": "white"
           },
           "yaxis": {
            "backgroundcolor": "#E5ECF6",
            "gridcolor": "white",
            "gridwidth": 2,
            "linecolor": "white",
            "showbackground": true,
            "ticks": "",
            "zerolinecolor": "white"
           },
           "zaxis": {
            "backgroundcolor": "#E5ECF6",
            "gridcolor": "white",
            "gridwidth": 2,
            "linecolor": "white",
            "showbackground": true,
            "ticks": "",
            "zerolinecolor": "white"
           }
          },
          "shapedefaults": {
           "line": {
            "color": "#2a3f5f"
           }
          },
          "ternary": {
           "aaxis": {
            "gridcolor": "white",
            "linecolor": "white",
            "ticks": ""
           },
           "baxis": {
            "gridcolor": "white",
            "linecolor": "white",
            "ticks": ""
           },
           "bgcolor": "#E5ECF6",
           "caxis": {
            "gridcolor": "white",
            "linecolor": "white",
            "ticks": ""
           }
          },
          "title": {
           "x": 0.05
          },
          "xaxis": {
           "automargin": true,
           "gridcolor": "white",
           "linecolor": "white",
           "ticks": "",
           "title": {
            "standoff": 15
           },
           "zerolinecolor": "white",
           "zerolinewidth": 2
          },
          "yaxis": {
           "automargin": true,
           "gridcolor": "white",
           "linecolor": "white",
           "ticks": "",
           "title": {
            "standoff": 15
           },
           "zerolinecolor": "white",
           "zerolinewidth": 2
          }
         }
        },
        "xaxis": {
         "rangeslider": {
          "visible": false
         }
        }
       }
      }
     },
     "metadata": {},
     "output_type": "display_data"
    }
   ],
   "source": [
    "fig = go.Figure(data=[\n",
    "    go.Candlestick(open=final_prediction[:, 0], high=final_prediction[:, 1],\n",
    "    low=final_prediction[:, 2], close=final_prediction[:, 3]\n",
    "    )\n",
    "])\n",
    "            \n",
    "fig.update_layout(xaxis_rangeslider_visible=False)\n",
    "fig.show()"
   ]
  },
  {
   "cell_type": "code",
   "execution_count": 55,
   "metadata": {},
   "outputs": [
    {
     "data": {
      "application/vnd.plotly.v1+json": {
       "config": {
        "plotlyServerURL": "https://plot.ly"
       },
       "data": [
        {
         "close": [
          1.1915,
          1.19075,
          1.19245,
          1.192,
          1.19145,
          1.192,
          1.1919,
          1.19215,
          1.19315,
          1.1937,
          1.1922,
          1.19305,
          1.19345,
          1.19335,
          1.1931,
          1.19275,
          1.1931,
          1.1928,
          1.19305,
          1.1935,
          1.19365,
          1.19345,
          1.19405,
          1.19425,
          1.19405,
          1.19395,
          1.194,
          1.1938
         ],
         "high": [
          1.19185,
          1.1918,
          1.19375,
          1.193,
          1.1927,
          1.1944,
          1.19245,
          1.1928,
          1.1932,
          1.1949,
          1.19425,
          1.19305,
          1.1939,
          1.1936,
          1.1937,
          1.19315,
          1.1931,
          1.1934,
          1.19305,
          1.19355,
          1.19365,
          1.19365,
          1.19425,
          1.1944,
          1.19435,
          1.19425,
          1.194,
          1.19425
         ],
         "low": [
          1.1892,
          1.1907,
          1.1907,
          1.1918,
          1.19115,
          1.19145,
          1.19155,
          1.1917,
          1.1917,
          1.19325,
          1.1922,
          1.1918,
          1.193,
          1.1932,
          1.1931,
          1.1923,
          1.19245,
          1.1928,
          1.19275,
          1.19305,
          1.1929,
          1.1934,
          1.19355,
          1.19395,
          1.19405,
          1.19385,
          1.19365,
          1.1936
         ],
         "open": [
          1.1896,
          1.19155,
          1.1907,
          1.1923,
          1.19195,
          1.19145,
          1.19205,
          1.1919,
          1.19225,
          1.19325,
          1.19375,
          1.19225,
          1.193,
          1.1934,
          1.19325,
          1.1931,
          1.19275,
          1.1932,
          1.1928,
          1.1931,
          1.19365,
          1.1935,
          1.19365,
          1.19415,
          1.19435,
          1.19425,
          1.1938,
          1.19425
         ],
         "type": "candlestick"
        }
       ],
       "layout": {
        "template": {
         "data": {
          "bar": [
           {
            "error_x": {
             "color": "#2a3f5f"
            },
            "error_y": {
             "color": "#2a3f5f"
            },
            "marker": {
             "line": {
              "color": "#E5ECF6",
              "width": 0.5
             },
             "pattern": {
              "fillmode": "overlay",
              "size": 10,
              "solidity": 0.2
             }
            },
            "type": "bar"
           }
          ],
          "barpolar": [
           {
            "marker": {
             "line": {
              "color": "#E5ECF6",
              "width": 0.5
             },
             "pattern": {
              "fillmode": "overlay",
              "size": 10,
              "solidity": 0.2
             }
            },
            "type": "barpolar"
           }
          ],
          "carpet": [
           {
            "aaxis": {
             "endlinecolor": "#2a3f5f",
             "gridcolor": "white",
             "linecolor": "white",
             "minorgridcolor": "white",
             "startlinecolor": "#2a3f5f"
            },
            "baxis": {
             "endlinecolor": "#2a3f5f",
             "gridcolor": "white",
             "linecolor": "white",
             "minorgridcolor": "white",
             "startlinecolor": "#2a3f5f"
            },
            "type": "carpet"
           }
          ],
          "choropleth": [
           {
            "colorbar": {
             "outlinewidth": 0,
             "ticks": ""
            },
            "type": "choropleth"
           }
          ],
          "contour": [
           {
            "colorbar": {
             "outlinewidth": 0,
             "ticks": ""
            },
            "colorscale": [
             [
              0,
              "#0d0887"
             ],
             [
              0.1111111111111111,
              "#46039f"
             ],
             [
              0.2222222222222222,
              "#7201a8"
             ],
             [
              0.3333333333333333,
              "#9c179e"
             ],
             [
              0.4444444444444444,
              "#bd3786"
             ],
             [
              0.5555555555555556,
              "#d8576b"
             ],
             [
              0.6666666666666666,
              "#ed7953"
             ],
             [
              0.7777777777777778,
              "#fb9f3a"
             ],
             [
              0.8888888888888888,
              "#fdca26"
             ],
             [
              1,
              "#f0f921"
             ]
            ],
            "type": "contour"
           }
          ],
          "contourcarpet": [
           {
            "colorbar": {
             "outlinewidth": 0,
             "ticks": ""
            },
            "type": "contourcarpet"
           }
          ],
          "heatmap": [
           {
            "colorbar": {
             "outlinewidth": 0,
             "ticks": ""
            },
            "colorscale": [
             [
              0,
              "#0d0887"
             ],
             [
              0.1111111111111111,
              "#46039f"
             ],
             [
              0.2222222222222222,
              "#7201a8"
             ],
             [
              0.3333333333333333,
              "#9c179e"
             ],
             [
              0.4444444444444444,
              "#bd3786"
             ],
             [
              0.5555555555555556,
              "#d8576b"
             ],
             [
              0.6666666666666666,
              "#ed7953"
             ],
             [
              0.7777777777777778,
              "#fb9f3a"
             ],
             [
              0.8888888888888888,
              "#fdca26"
             ],
             [
              1,
              "#f0f921"
             ]
            ],
            "type": "heatmap"
           }
          ],
          "heatmapgl": [
           {
            "colorbar": {
             "outlinewidth": 0,
             "ticks": ""
            },
            "colorscale": [
             [
              0,
              "#0d0887"
             ],
             [
              0.1111111111111111,
              "#46039f"
             ],
             [
              0.2222222222222222,
              "#7201a8"
             ],
             [
              0.3333333333333333,
              "#9c179e"
             ],
             [
              0.4444444444444444,
              "#bd3786"
             ],
             [
              0.5555555555555556,
              "#d8576b"
             ],
             [
              0.6666666666666666,
              "#ed7953"
             ],
             [
              0.7777777777777778,
              "#fb9f3a"
             ],
             [
              0.8888888888888888,
              "#fdca26"
             ],
             [
              1,
              "#f0f921"
             ]
            ],
            "type": "heatmapgl"
           }
          ],
          "histogram": [
           {
            "marker": {
             "pattern": {
              "fillmode": "overlay",
              "size": 10,
              "solidity": 0.2
             }
            },
            "type": "histogram"
           }
          ],
          "histogram2d": [
           {
            "colorbar": {
             "outlinewidth": 0,
             "ticks": ""
            },
            "colorscale": [
             [
              0,
              "#0d0887"
             ],
             [
              0.1111111111111111,
              "#46039f"
             ],
             [
              0.2222222222222222,
              "#7201a8"
             ],
             [
              0.3333333333333333,
              "#9c179e"
             ],
             [
              0.4444444444444444,
              "#bd3786"
             ],
             [
              0.5555555555555556,
              "#d8576b"
             ],
             [
              0.6666666666666666,
              "#ed7953"
             ],
             [
              0.7777777777777778,
              "#fb9f3a"
             ],
             [
              0.8888888888888888,
              "#fdca26"
             ],
             [
              1,
              "#f0f921"
             ]
            ],
            "type": "histogram2d"
           }
          ],
          "histogram2dcontour": [
           {
            "colorbar": {
             "outlinewidth": 0,
             "ticks": ""
            },
            "colorscale": [
             [
              0,
              "#0d0887"
             ],
             [
              0.1111111111111111,
              "#46039f"
             ],
             [
              0.2222222222222222,
              "#7201a8"
             ],
             [
              0.3333333333333333,
              "#9c179e"
             ],
             [
              0.4444444444444444,
              "#bd3786"
             ],
             [
              0.5555555555555556,
              "#d8576b"
             ],
             [
              0.6666666666666666,
              "#ed7953"
             ],
             [
              0.7777777777777778,
              "#fb9f3a"
             ],
             [
              0.8888888888888888,
              "#fdca26"
             ],
             [
              1,
              "#f0f921"
             ]
            ],
            "type": "histogram2dcontour"
           }
          ],
          "mesh3d": [
           {
            "colorbar": {
             "outlinewidth": 0,
             "ticks": ""
            },
            "type": "mesh3d"
           }
          ],
          "parcoords": [
           {
            "line": {
             "colorbar": {
              "outlinewidth": 0,
              "ticks": ""
             }
            },
            "type": "parcoords"
           }
          ],
          "pie": [
           {
            "automargin": true,
            "type": "pie"
           }
          ],
          "scatter": [
           {
            "fillpattern": {
             "fillmode": "overlay",
             "size": 10,
             "solidity": 0.2
            },
            "type": "scatter"
           }
          ],
          "scatter3d": [
           {
            "line": {
             "colorbar": {
              "outlinewidth": 0,
              "ticks": ""
             }
            },
            "marker": {
             "colorbar": {
              "outlinewidth": 0,
              "ticks": ""
             }
            },
            "type": "scatter3d"
           }
          ],
          "scattercarpet": [
           {
            "marker": {
             "colorbar": {
              "outlinewidth": 0,
              "ticks": ""
             }
            },
            "type": "scattercarpet"
           }
          ],
          "scattergeo": [
           {
            "marker": {
             "colorbar": {
              "outlinewidth": 0,
              "ticks": ""
             }
            },
            "type": "scattergeo"
           }
          ],
          "scattergl": [
           {
            "marker": {
             "colorbar": {
              "outlinewidth": 0,
              "ticks": ""
             }
            },
            "type": "scattergl"
           }
          ],
          "scattermapbox": [
           {
            "marker": {
             "colorbar": {
              "outlinewidth": 0,
              "ticks": ""
             }
            },
            "type": "scattermapbox"
           }
          ],
          "scatterpolar": [
           {
            "marker": {
             "colorbar": {
              "outlinewidth": 0,
              "ticks": ""
             }
            },
            "type": "scatterpolar"
           }
          ],
          "scatterpolargl": [
           {
            "marker": {
             "colorbar": {
              "outlinewidth": 0,
              "ticks": ""
             }
            },
            "type": "scatterpolargl"
           }
          ],
          "scatterternary": [
           {
            "marker": {
             "colorbar": {
              "outlinewidth": 0,
              "ticks": ""
             }
            },
            "type": "scatterternary"
           }
          ],
          "surface": [
           {
            "colorbar": {
             "outlinewidth": 0,
             "ticks": ""
            },
            "colorscale": [
             [
              0,
              "#0d0887"
             ],
             [
              0.1111111111111111,
              "#46039f"
             ],
             [
              0.2222222222222222,
              "#7201a8"
             ],
             [
              0.3333333333333333,
              "#9c179e"
             ],
             [
              0.4444444444444444,
              "#bd3786"
             ],
             [
              0.5555555555555556,
              "#d8576b"
             ],
             [
              0.6666666666666666,
              "#ed7953"
             ],
             [
              0.7777777777777778,
              "#fb9f3a"
             ],
             [
              0.8888888888888888,
              "#fdca26"
             ],
             [
              1,
              "#f0f921"
             ]
            ],
            "type": "surface"
           }
          ],
          "table": [
           {
            "cells": {
             "fill": {
              "color": "#EBF0F8"
             },
             "line": {
              "color": "white"
             }
            },
            "header": {
             "fill": {
              "color": "#C8D4E3"
             },
             "line": {
              "color": "white"
             }
            },
            "type": "table"
           }
          ]
         },
         "layout": {
          "annotationdefaults": {
           "arrowcolor": "#2a3f5f",
           "arrowhead": 0,
           "arrowwidth": 1
          },
          "autotypenumbers": "strict",
          "coloraxis": {
           "colorbar": {
            "outlinewidth": 0,
            "ticks": ""
           }
          },
          "colorscale": {
           "diverging": [
            [
             0,
             "#8e0152"
            ],
            [
             0.1,
             "#c51b7d"
            ],
            [
             0.2,
             "#de77ae"
            ],
            [
             0.3,
             "#f1b6da"
            ],
            [
             0.4,
             "#fde0ef"
            ],
            [
             0.5,
             "#f7f7f7"
            ],
            [
             0.6,
             "#e6f5d0"
            ],
            [
             0.7,
             "#b8e186"
            ],
            [
             0.8,
             "#7fbc41"
            ],
            [
             0.9,
             "#4d9221"
            ],
            [
             1,
             "#276419"
            ]
           ],
           "sequential": [
            [
             0,
             "#0d0887"
            ],
            [
             0.1111111111111111,
             "#46039f"
            ],
            [
             0.2222222222222222,
             "#7201a8"
            ],
            [
             0.3333333333333333,
             "#9c179e"
            ],
            [
             0.4444444444444444,
             "#bd3786"
            ],
            [
             0.5555555555555556,
             "#d8576b"
            ],
            [
             0.6666666666666666,
             "#ed7953"
            ],
            [
             0.7777777777777778,
             "#fb9f3a"
            ],
            [
             0.8888888888888888,
             "#fdca26"
            ],
            [
             1,
             "#f0f921"
            ]
           ],
           "sequentialminus": [
            [
             0,
             "#0d0887"
            ],
            [
             0.1111111111111111,
             "#46039f"
            ],
            [
             0.2222222222222222,
             "#7201a8"
            ],
            [
             0.3333333333333333,
             "#9c179e"
            ],
            [
             0.4444444444444444,
             "#bd3786"
            ],
            [
             0.5555555555555556,
             "#d8576b"
            ],
            [
             0.6666666666666666,
             "#ed7953"
            ],
            [
             0.7777777777777778,
             "#fb9f3a"
            ],
            [
             0.8888888888888888,
             "#fdca26"
            ],
            [
             1,
             "#f0f921"
            ]
           ]
          },
          "colorway": [
           "#636efa",
           "#EF553B",
           "#00cc96",
           "#ab63fa",
           "#FFA15A",
           "#19d3f3",
           "#FF6692",
           "#B6E880",
           "#FF97FF",
           "#FECB52"
          ],
          "font": {
           "color": "#2a3f5f"
          },
          "geo": {
           "bgcolor": "white",
           "lakecolor": "white",
           "landcolor": "#E5ECF6",
           "showlakes": true,
           "showland": true,
           "subunitcolor": "white"
          },
          "hoverlabel": {
           "align": "left"
          },
          "hovermode": "closest",
          "mapbox": {
           "style": "light"
          },
          "paper_bgcolor": "white",
          "plot_bgcolor": "#E5ECF6",
          "polar": {
           "angularaxis": {
            "gridcolor": "white",
            "linecolor": "white",
            "ticks": ""
           },
           "bgcolor": "#E5ECF6",
           "radialaxis": {
            "gridcolor": "white",
            "linecolor": "white",
            "ticks": ""
           }
          },
          "scene": {
           "xaxis": {
            "backgroundcolor": "#E5ECF6",
            "gridcolor": "white",
            "gridwidth": 2,
            "linecolor": "white",
            "showbackground": true,
            "ticks": "",
            "zerolinecolor": "white"
           },
           "yaxis": {
            "backgroundcolor": "#E5ECF6",
            "gridcolor": "white",
            "gridwidth": 2,
            "linecolor": "white",
            "showbackground": true,
            "ticks": "",
            "zerolinecolor": "white"
           },
           "zaxis": {
            "backgroundcolor": "#E5ECF6",
            "gridcolor": "white",
            "gridwidth": 2,
            "linecolor": "white",
            "showbackground": true,
            "ticks": "",
            "zerolinecolor": "white"
           }
          },
          "shapedefaults": {
           "line": {
            "color": "#2a3f5f"
           }
          },
          "ternary": {
           "aaxis": {
            "gridcolor": "white",
            "linecolor": "white",
            "ticks": ""
           },
           "baxis": {
            "gridcolor": "white",
            "linecolor": "white",
            "ticks": ""
           },
           "bgcolor": "#E5ECF6",
           "caxis": {
            "gridcolor": "white",
            "linecolor": "white",
            "ticks": ""
           }
          },
          "title": {
           "x": 0.05
          },
          "xaxis": {
           "automargin": true,
           "gridcolor": "white",
           "linecolor": "white",
           "ticks": "",
           "title": {
            "standoff": 15
           },
           "zerolinecolor": "white",
           "zerolinewidth": 2
          },
          "yaxis": {
           "automargin": true,
           "gridcolor": "white",
           "linecolor": "white",
           "ticks": "",
           "title": {
            "standoff": 15
           },
           "zerolinecolor": "white",
           "zerolinewidth": 2
          }
         }
        },
        "xaxis": {
         "rangeslider": {
          "visible": false
         }
        }
       }
      }
     },
     "metadata": {},
     "output_type": "display_data"
    }
   ],
   "source": [
    "# Compare with true values\n",
    "test_y = val_y[test_idx].reshape(-1, LOOK_FORWARD, N_FEATURES)\n",
    "\n",
    "true_ohlc = np.concatenate((test_x, test_y), axis=1)[0]\n",
    "\n",
    "fig = go.Figure(data=[\n",
    "    go.Candlestick(open=true_ohlc[:, 0], high=true_ohlc[:, 1],\n",
    "    low=true_ohlc[:, 2], close=true_ohlc[:, 3]\n",
    "    )\n",
    "])\n",
    "            \n",
    "fig.update_layout(xaxis_rangeslider_visible=False)\n",
    "fig.show()"
   ]
  },
  {
   "attachments": {},
   "cell_type": "markdown",
   "metadata": {},
   "source": [
    "The last three candlesticks between these two charts are roughly similar, meaning that the model had learned to predict the general trend given the input data, but, the model was not able to learn candle shapes as well as it could've. A solution to this is proposed in the final part of this notebook.\n",
    "\n",
    "__However, this error is nigh negligible, as errors are on the scale of 0.001.__\n",
    "\n",
    "\n",
    "Juding from the validation/training loss plot below, we can learn that if this model had more time to train, it would most likely perform even better:"
   ]
  },
  {
   "cell_type": "code",
   "execution_count": 25,
   "metadata": {},
   "outputs": [
    {
     "data": {
      "image/png": "[encoded data removed]",
      "text/plain": [
       "<Figure size 640x480 with 1 Axes>"
      ]
     },
     "metadata": {},
     "output_type": "display_data"
    }
   ],
   "source": [
    "# Plot validation/training error\n",
    "plt.plot(history.history['loss'][10:])     # Plotting from the 10th epoch onwards, since the drop from the first few epochs was too drastic and changes the scale of the entire plot\n",
    "plt.plot(history.history['val_loss'][10:])\n",
    "plt.title('Model Loss')\n",
    "plt.ylabel('Loss')\n",
    "plt.xlabel('Epoch')\n",
    "plt.legend(['train', 'val'], loc='upper left')\n",
    "plt.show()"
   ]
  },
  {
   "attachments": {},
   "cell_type": "markdown",
   "metadata": {},
   "source": [
    "As you can see, while the changes in training loss were somewhat negligible, over time, validation loss continued to decrease, implying that the model was still continuing to learn from it's previous mistakes. However, the validation loss  had not plateaued, meaning there was still room for improvement had there been more time.\n",
    "\n",
    "Finally, I'll save the model so that it can be reloaded later for future predictions."
   ]
  },
  {
   "cell_type": "code",
   "execution_count": 17,
   "metadata": {},
   "outputs": [
    {
     "name": "stdout",
     "output_type": "stream",
     "text": [
      "Model saved!\n"
     ]
    }
   ],
   "source": [
    "model.save(model_dir + model_name)\n",
    "print(\"Model saved!\")"
   ]
  },
  {
   "attachments": {},
   "cell_type": "markdown",
   "metadata": {},
   "source": [
    "The model can be easily reloaded via the following command:\n",
    "\n",
    "```\n",
    "from keras.models import load_model\n",
    "\n",
    "model = load_model(model_dir + model_name)\n",
    "```\n",
    "\n",
    "# Future Steps\n",
    "\n",
    "Improvements for the future include:\n",
    "- Testing normalization, wavelet denoising and other various denoising techniques to improve model accuracy over time\n",
    "- Using various technical indicators to feed more insight and information to the model.\n",
    "- Defining a custom loss function and/or features that'll take the candle *shape* into account.\n",
    "- Predicting trends rather than prices over time, for a more reliable, long-term model that will be more profitable over time."
   ]
  }
 ],
 "metadata": {
  "kernelspec": {
   "display_name": "base",
   "language": "python",
   "name": "python3"
  },
  "language_info": {
   "codemirror_mode": {
    "name": "ipython",
    "version": 3
   },
   "file_extension": ".py",
   "mimetype": "text/x-python",
   "name": "python",
   "nbconvert_exporter": "python",
   "pygments_lexer": "ipython3",
   "version": "3.10.9"
  },
  "orig_nbformat": 4,
  "vscode": {
   "interpreter": {
    "hash": "16783bc21ba80155785be8b70fcc9153b9d55e85d2306ea93183572d82452411"
   }
  }
 },
 "nbformat": 4,
 "nbformat_minor": 2
}
